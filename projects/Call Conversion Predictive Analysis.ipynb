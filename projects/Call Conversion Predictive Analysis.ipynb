{
 "cells": [
  {
   "cell_type": "markdown",
   "id": "1dd2ac64-8eb5-4187-af49-f622f9318857",
   "metadata": {},
   "source": [
    "<h1 align=\"center\">Call Conversion Predictive Analysis </h1>"
   ]
  },
  {
   "cell_type": "markdown",
   "id": "67d9d597-d69c-4390-b25c-908244319eda",
   "metadata": {},
   "source": [
    "<hr style=\"border:5px solid Black\">"
   ]
  },
  {
   "cell_type": "markdown",
   "id": "d6456a93-e229-40fb-8658-149478950125",
   "metadata": {},
   "source": [
    "<h2 style=\"color: blue;\">Introduction:</h2>"
   ]
  },
  {
   "cell_type": "markdown",
   "id": "2cfee63f-8064-4ac1-8838-1bf3eb242a81",
   "metadata": {},
   "source": [
    "<hr style=\"border:3px solid Black\">"
   ]
  },
  {
   "cell_type": "markdown",
   "id": "0b1757cf-47d6-4db0-a232-13d52ba30220",
   "metadata": {},
   "source": [
    "### About:"
   ]
  },
  {
   "cell_type": "markdown",
   "id": "eb2b9d1d-41bd-4c99-93e5-023c7787d0ce",
   "metadata": {},
   "source": [
    "A big component of Company X’s health insurance vertical is our call marketplace.\r\n",
    " \r\n",
    "Customers reach our marketplace by filling out information about themselves on our websites, including their phone number, and then answering our phone call. Once they answer, we auction their call to buyers in our marketplace. The auction winner has the user’s phone call transferred to a member of their sales team.\r\n",
    " \r\n",
    "Our buyers’ goal is to sell health insurance policies. Our platform provides the ability to bid based on everything we know about a given user when they answer our call. Users/Calls vary in ‘quality’ (likelihood of purchasing a policy).\r\n",
    " \r\n",
    "Attached is a dataset with calls from October 2023 to March 2024. The files provide\n",
    "+ **health_calls_2023.csv**: calls from Q4 2023\n",
    "+ **health_calls_2024.csv**: calls from Q1 2024\n",
    "+ **source.csv**: attributes associated with each source\n",
    "+ **user_provided_data.csv**: attributes associated with each caller\n",
    "+ **Data Dictionary.xlsx**: explanations of fields provided in these datasets\n",
    "se datasets\r\n",
    "Note: you can assume the “calls” files are in consistent formats and data types between all files are consistent.\r\n",
    "\r\n",
    "Only one buyer (buyer_id = 63253) has conversion data in the dataset; we do not know the status of calls bought by the other buyers (their conversion values are NA in the dataset). Note that the duration of the call is not known until the call is over, and thus not available for buyers to use in their bidding calculations.\r\n"
   ]
  },
  {
   "cell_type": "markdown",
   "id": "85f6e846-2a1c-4050-a3d2-51b336932d36",
   "metadata": {},
   "source": [
    "### Objective/Task:"
   ]
  },
  {
   "cell_type": "markdown",
   "id": "fd7c0e84-10c4-4232-a602-cace7f29a3a2",
   "metadata": {},
   "source": [
    "1. **<span style=\"color:Black\">Estimate the likelihood of conversion for every call in the dataset.</span>**\n",
    "2. **<span style=\"color:Black\">Use the estimate from 1 to explain which types of calls are more likely to convert.</span>**"
   ]
  },
  {
   "cell_type": "markdown",
   "id": "f2e2dfc9-3a5e-4e7d-b0e1-3eb59c214c02",
   "metadata": {},
   "source": [
    "<hr style=\"border:5px solid Black\">"
   ]
  },
  {
   "cell_type": "markdown",
   "id": "dea254ff-9c15-4e0e-8efd-911af2b9b396",
   "metadata": {},
   "source": [
    "<h2 style=\"color: blue;\">Table of Contents:</h2>"
   ]
  },
  {
   "cell_type": "markdown",
   "id": "a4b8074e-98fb-41e1-ae9b-e3321ed8bcf1",
   "metadata": {},
   "source": [
    "<hr style=\"border:3px solid Black\">"
   ]
  },
  {
   "cell_type": "markdown",
   "id": "fb8ba920-6bab-45c2-a54e-1a228c788638",
   "metadata": {},
   "source": [
    "1. **<span style=\"color:Blue\">Introduction</span>**\n",
    "    + About\n",
    "    + Objective/Task\n",
    "2. **<span style=\"color:Blue\">Table of Contents</span>**\n",
    "3. **<span style=\"color:Blue\">Libraries</span>**\n",
    "    + Reading CSV flies\n",
    "4. **<span style=\"color:Blue\">Data Cleaning</span>**\n",
    "5. **<span style=\"color:Blue\">Exploratory Data Analysis (Part one)</span>**\n",
    "6. **<span style=\"color:Blue\">Pre-Processing</span>**\n",
    "7. **<span style=\"color:Blue\">Model Building</span>**\n",
    "    + Task 1: Estimate the likelihood of conversion for every call\n",
    "8. **<span style=\"color:Blue\">Exploratory Data Analysis (Part two)</span>**\n",
    "    + Task 2: Use the estimate from 1 to explain which types of calls are more likely to convert\n",
    "9. **<span style=\"color:Blue\">Conclusion</span>**"
   ]
  },
  {
   "cell_type": "markdown",
   "id": "95099460-8675-46da-9952-04fcae2de31f",
   "metadata": {},
   "source": [
    "<hr style=\"border:5px solid Black\">"
   ]
  },
  {
   "cell_type": "markdown",
   "id": "afbcb6fe-476b-4c8a-9b81-97b4c4e4ea56",
   "metadata": {},
   "source": [
    "<h2 style=\"color: blue;\">Libraries</h2>"
   ]
  },
  {
   "cell_type": "markdown",
   "id": "a738dd9d-53c4-4618-be89-f49c6486447e",
   "metadata": {},
   "source": [
    "<hr style=\"border:3px solid Black\">"
   ]
  },
  {
   "cell_type": "code",
   "execution_count": 1,
   "id": "264950f0-72fe-4a41-8e63-ce00152e6b1c",
   "metadata": {},
   "outputs": [],
   "source": [
    "import pandas as pd\n",
    "import numpy as np\n",
    "import re\n",
    "import matplotlib.pyplot as plt\n",
    "import seaborn as sns"
   ]
  },
  {
   "cell_type": "code",
   "execution_count": 2,
   "id": "9f065011-c730-4d2e-a9ce-04d325fa6a33",
   "metadata": {},
   "outputs": [],
   "source": [
    "from sklearn.ensemble import RandomForestClassifier\n",
    "from sklearn.model_selection import train_test_split\n",
    "from sklearn.metrics import classification_report, confusion_matrix, roc_auc_score, accuracy_score\n",
    "from sklearn.preprocessing import LabelEncoder"
   ]
  },
  {
   "cell_type": "markdown",
   "id": "f99cb519-f70f-455e-97b6-c42b3170fd3a",
   "metadata": {},
   "source": [
    "<hr style=\"border:2px solid Black\">"
   ]
  },
  {
   "cell_type": "markdown",
   "id": "82b91fbe-48bc-405b-bebc-7ca9d877fc25",
   "metadata": {},
   "source": [
    "#### Reading CSV files"
   ]
  },
  {
   "cell_type": "code",
   "execution_count": 3,
   "id": "f3ac5d7e-6804-4458-abe8-18a2ab8fc7c4",
   "metadata": {},
   "outputs": [
    {
     "name": "stderr",
     "output_type": "stream",
     "text": [
      "C:\\Users\\Yosua\\AppData\\Local\\Temp\\ipykernel_33720\\203272089.py:2: DtypeWarning: Columns (9) have mixed types. Specify dtype option on import or set low_memory=False.\n",
      "  user_provided_data = pd.read_csv(r\"C:\\Users\\Yosua\\Downloads\\user_provided_data.csv\")\n"
     ]
    }
   ],
   "source": [
    "source = pd.read_csv(r\"C:\\Users\\Yosua\\Downloads\\source.csv\")\n",
    "user_provided_data = pd.read_csv(r\"C:\\Users\\Yosua\\Downloads\\user_provided_data.csv\")\n",
    "health_calls_2023 = pd.read_csv(r\"C:\\Users\\Yosua\\Downloads\\health_calls_2023.csv\") # (46162, 7)\n",
    "health_calls_2024 = pd.read_csv(r\"C:\\Users\\Yosua\\Downloads\\health_calls_2024.csv\") # (53384, 7)"
   ]
  },
  {
   "cell_type": "code",
   "execution_count": null,
   "id": "ba0e2570-2586-4169-a0c3-8025118d18b9",
   "metadata": {},
   "outputs": [],
   "source": []
  },
  {
   "cell_type": "code",
   "execution_count": 4,
   "id": "2bdfc517-235e-4ab9-afa7-75195b22e00a",
   "metadata": {},
   "outputs": [
    {
     "name": "stdout",
     "output_type": "stream",
     "text": [
      "<class 'pandas.core.frame.DataFrame'>\n",
      "RangeIndex: 99546 entries, 0 to 99545\n",
      "Data columns (total 27 columns):\n",
      " #   Column             Non-Null Count  Dtype  \n",
      "---  ------             --------------  -----  \n",
      " 0   call_id            99546 non-null  object \n",
      " 1   phone_num_hash     99546 non-null  object \n",
      " 2   buyer_id           99546 non-null  float64\n",
      " 3   source_id          99546 non-null  int64  \n",
      " 4   time               99546 non-null  object \n",
      " 5   call_duration      99546 non-null  int64  \n",
      " 6   conversion         13619 non-null  float64\n",
      " 7   state              99546 non-null  object \n",
      " 8   currently_insured  816 non-null    float64\n",
      " 9   connection_type    99546 non-null  object \n",
      " 10  browser            99515 non-null  object \n",
      " 11  browser_platform   99208 non-null  object \n",
      " 12  device             99546 non-null  object \n",
      " 13  age                98733 non-null  float64\n",
      " 14  bmi                314 non-null    float64\n",
      " 15  coverage_type      7 non-null      object \n",
      " 16  credit_rating      0 non-null      float64\n",
      " 17  current_company    785 non-null    object \n",
      " 18  gender             98720 non-null  object \n",
      " 19  height             314 non-null    float64\n",
      " 20  household_income   98969 non-null  float64\n",
      " 21  married            0 non-null      float64\n",
      " 22  household_size     99546 non-null  int64  \n",
      " 23  subsidy            98765 non-null  object \n",
      " 24  weight             314 non-null    float64\n",
      " 25  seller_id          99546 non-null  int64  \n",
      " 26  seller_type        99546 non-null  object \n",
      "dtypes: float64(10), int64(4), object(13)\n",
      "memory usage: 20.5+ MB\n"
     ]
    }
   ],
   "source": [
    "# Stack the health_calls data into one DataFrame.\n",
    "total_health_calls = pd.concat([health_calls_2023, health_calls_2024])\n",
    "# Join the other DataFrames,'user_provided_data' and 'source', together.\n",
    "sample = pd.merge(total_health_calls, user_provided_data, how='inner', on='call_id')\n",
    "sample = pd.merge(sample, source, on='source_id')\n",
    "sample.info()"
   ]
  },
  {
   "cell_type": "markdown",
   "id": "0c2262e5-9988-4b50-8817-8f846e55158c",
   "metadata": {},
   "source": [
    "<hr style=\"border:5px solid Black\">"
   ]
  },
  {
   "cell_type": "markdown",
   "id": "4d87fbba-77f1-4f80-aa60-8d1e45400ada",
   "metadata": {},
   "source": [
    "<h2 style=\"color: blue;\">Data Cleaning</h2>"
   ]
  },
  {
   "cell_type": "markdown",
   "id": "f88bfb74-1886-4b87-9e44-2167b8bcd243",
   "metadata": {},
   "source": [
    "<hr style=\"border:3px solid Black\">"
   ]
  },
  {
   "cell_type": "code",
   "execution_count": 5,
   "id": "d8244f22-d6d0-4a99-afb5-1a0af6968693",
   "metadata": {},
   "outputs": [],
   "source": [
    "def column_cleanup(dataframe):\n",
    "    # Convert 'time' column to datetime\n",
    "    dataframe['time'] = pd.to_datetime(dataframe['time'])\n",
    "    \n",
    "    # Extract month from 'time' column\n",
    "    dataframe['month'] = dataframe['time'].dt.month\n",
    "    \n",
    "    # Round down the age to get the age in whole numbers\n",
    "    dataframe['age'] = dataframe['age'].apply(np.floor)\n",
    "    \n",
    "    return dataframe"
   ]
  },
  {
   "cell_type": "code",
   "execution_count": 6,
   "id": "4caee674-1f5b-4ab8-a030-8b88e2a43c36",
   "metadata": {},
   "outputs": [],
   "source": [
    "def remove_null_columns(dataframe):\n",
    "    null_pct = {}\n",
    "    for column in dataframe.columns:\n",
    "        pct_non_null = (dataframe[column].notnull().sum() / len(dataframe)) * 100\n",
    "        null_pct[column] = pct_non_null\n",
    "    \n",
    "    non_null = pd.DataFrame(null_pct.items(), columns=['column_name', 'non_null_pct'])\n",
    "    \n",
    "    # Filter out columns where non-null percentage is less than 90%, but keep 'conversion' column\n",
    "    null_columns = non_null[(non_null['non_null_pct'] < 90) & (non_null['column_name'] != 'conversion')]['column_name'].tolist()\n",
    "    \n",
    "    # Drop these columns from the original DataFrame\n",
    "    cleaned_dataframe = dataframe.drop(columns=null_columns)\n",
    "\n",
    "    return cleaned_dataframe"
   ]
  },
  {
   "cell_type": "code",
   "execution_count": 7,
   "id": "90f8cad6-dad7-4435-9a0e-e4360b5af458",
   "metadata": {},
   "outputs": [
    {
     "name": "stdout",
     "output_type": "stream",
     "text": [
      "<class 'pandas.core.frame.DataFrame'>\n",
      "RangeIndex: 99546 entries, 0 to 99545\n",
      "Data columns (total 20 columns):\n",
      " #   Column            Non-Null Count  Dtype         \n",
      "---  ------            --------------  -----         \n",
      " 0   call_id           99546 non-null  object        \n",
      " 1   phone_num_hash    99546 non-null  object        \n",
      " 2   buyer_id          99546 non-null  float64       \n",
      " 3   source_id         99546 non-null  int64         \n",
      " 4   time              99546 non-null  datetime64[ns]\n",
      " 5   call_duration     99546 non-null  int64         \n",
      " 6   conversion        13619 non-null  float64       \n",
      " 7   state             99546 non-null  object        \n",
      " 8   connection_type   99546 non-null  object        \n",
      " 9   browser           99515 non-null  object        \n",
      " 10  browser_platform  99208 non-null  object        \n",
      " 11  device            99546 non-null  object        \n",
      " 12  age               98733 non-null  float64       \n",
      " 13  gender            98720 non-null  object        \n",
      " 14  household_income  98969 non-null  float64       \n",
      " 15  household_size    99546 non-null  int64         \n",
      " 16  subsidy           98765 non-null  object        \n",
      " 17  seller_id         99546 non-null  int64         \n",
      " 18  seller_type       99546 non-null  object        \n",
      " 19  month             99546 non-null  int32         \n",
      "dtypes: datetime64[ns](1), float64(4), int32(1), int64(4), object(10)\n",
      "memory usage: 14.8+ MB\n"
     ]
    }
   ],
   "source": [
    "sample_cleaned = column_cleanup(sample)\n",
    "sample_cleaned = remove_null_columns(sample_cleaned)\n",
    "sample_cleaned.info()"
   ]
  },
  {
   "cell_type": "code",
   "execution_count": null,
   "id": "1d7ec4c3-2df9-48c1-9722-d670889bd1b1",
   "metadata": {},
   "outputs": [],
   "source": []
  },
  {
   "cell_type": "markdown",
   "id": "e8eecd5c-794e-4535-a511-438c563743c5",
   "metadata": {},
   "source": [
    "<hr style=\"border:5px solid Black\">"
   ]
  },
  {
   "cell_type": "markdown",
   "id": "44b9f6e8-d25d-4d54-81f1-bd905ff38c69",
   "metadata": {},
   "source": [
    "<h2 style=\"color: blue;\">Exploratory Data Analysis (Part One)</h2>"
   ]
  },
  {
   "cell_type": "markdown",
   "id": "7cb4141d-20ca-4569-b318-f182baacf50e",
   "metadata": {},
   "source": [
    "<hr style=\"border:3px solid Black\">"
   ]
  },
  {
   "cell_type": "markdown",
   "id": "42796d56-33a0-44af-a118-bf417389a66a",
   "metadata": {},
   "source": [
    "#### We will explore the data set using only the records with conversions data, or buyer_id = 63253. This will give us an idea of what data we are working with. We will call this data frame 'conversion_df' for simplicity."
   ]
  },
  {
   "cell_type": "code",
   "execution_count": 8,
   "id": "eadd812a-afef-4569-ac5b-26031737854b",
   "metadata": {},
   "outputs": [
    {
     "name": "stdout",
     "output_type": "stream",
     "text": [
      "<class 'pandas.core.frame.DataFrame'>\n",
      "Index: 13619 entries, 7 to 99528\n",
      "Data columns (total 28 columns):\n",
      " #   Column             Non-Null Count  Dtype         \n",
      "---  ------             --------------  -----         \n",
      " 0   call_id            13619 non-null  object        \n",
      " 1   phone_num_hash     13619 non-null  object        \n",
      " 2   buyer_id           13619 non-null  float64       \n",
      " 3   source_id          13619 non-null  int64         \n",
      " 4   time               13619 non-null  datetime64[ns]\n",
      " 5   call_duration      13619 non-null  int64         \n",
      " 6   conversion         13619 non-null  float64       \n",
      " 7   state              13619 non-null  object        \n",
      " 8   currently_insured  167 non-null    float64       \n",
      " 9   connection_type    13619 non-null  object        \n",
      " 10  browser            13612 non-null  object        \n",
      " 11  browser_platform   13565 non-null  object        \n",
      " 12  device             13619 non-null  object        \n",
      " 13  age                13453 non-null  float64       \n",
      " 14  bmi                107 non-null    float64       \n",
      " 15  coverage_type      1 non-null      object        \n",
      " 16  credit_rating      0 non-null      float64       \n",
      " 17  current_company    160 non-null    object        \n",
      " 18  gender             13451 non-null  object        \n",
      " 19  height             107 non-null    float64       \n",
      " 20  household_income   13510 non-null  float64       \n",
      " 21  married            0 non-null      float64       \n",
      " 22  household_size     13619 non-null  int64         \n",
      " 23  subsidy            13482 non-null  object        \n",
      " 24  weight             107 non-null    float64       \n",
      " 25  seller_id          13619 non-null  int64         \n",
      " 26  seller_type        13619 non-null  object        \n",
      " 27  month              13619 non-null  int32         \n",
      "dtypes: datetime64[ns](1), float64(10), int32(1), int64(4), object(12)\n",
      "memory usage: 3.0+ MB\n"
     ]
    }
   ],
   "source": [
    "coversion_df = sample[sample['conversion'].notnull()]\n",
    "coversion_df.info()"
   ]
  },
  {
   "cell_type": "code",
   "execution_count": null,
   "id": "fd58208d-a6bb-4f4c-ac24-873638d86e77",
   "metadata": {},
   "outputs": [],
   "source": []
  },
  {
   "cell_type": "markdown",
   "id": "05835100-dd72-472b-a48b-d3b07737b433",
   "metadata": {},
   "source": [
    "#### We are working with imbalanced data. About 15% converted and 85% did not."
   ]
  },
  {
   "cell_type": "code",
   "execution_count": 9,
   "id": "28299af7-cc7c-4ec7-95f8-b87e63fbf648",
   "metadata": {},
   "outputs": [
    {
     "data": {
      "text/plain": [
       "<Figure size 1200x800 with 0 Axes>"
      ]
     },
     "metadata": {},
     "output_type": "display_data"
    },
    {
     "data": {
      "image/png": "[encoded data removed]",
      "text/plain": [
       "<Figure size 640x480 with 1 Axes>"
      ]
     },
     "metadata": {},
     "output_type": "display_data"
    }
   ],
   "source": [
    "conversion_distribution = coversion_df['conversion'].value_counts().reset_index()\n",
    "conversion_distribution['conversion'] = conversion_distribution['conversion'].apply(lambda x: '0 (Did not Convert)' if x==0 else '1 (Converted)')\n",
    "\n",
    "# Plotting the pie chart\n",
    "plt.figure(figsize=(12, 8))\n",
    "conversion_distribution.plot(kind='pie', autopct='%1.1f%%', y = 'count', startangle=140, labels=conversion_distribution['conversion'])\n",
    "plt.title('Distribution of Conversions')\n",
    "plt.ylabel('')  # Remove the y-label as it's not needed for pie charts\n",
    "plt.legend(title='Conversion Type:', loc='upper right')\n",
    "\n",
    "plt.show()"
   ]
  },
  {
   "cell_type": "code",
   "execution_count": 10,
   "id": "bf1d0e65-507c-4d79-abe8-a4f0673922ec",
   "metadata": {},
   "outputs": [
    {
     "data": {
      "text/html": [
       "<div>\n",
       "<style scoped>\n",
       "    .dataframe tbody tr th:only-of-type {\n",
       "        vertical-align: middle;\n",
       "    }\n",
       "\n",
       "    .dataframe tbody tr th {\n",
       "        vertical-align: top;\n",
       "    }\n",
       "\n",
       "    .dataframe thead th {\n",
       "        text-align: right;\n",
       "    }\n",
       "</style>\n",
       "<table border=\"1\" class=\"dataframe\">\n",
       "  <thead>\n",
       "    <tr style=\"text-align: right;\">\n",
       "      <th></th>\n",
       "      <th>conversion</th>\n",
       "      <th>count</th>\n",
       "    </tr>\n",
       "  </thead>\n",
       "  <tbody>\n",
       "    <tr>\n",
       "      <th>0</th>\n",
       "      <td>0 (Did not Convert)</td>\n",
       "      <td>11503</td>\n",
       "    </tr>\n",
       "    <tr>\n",
       "      <th>1</th>\n",
       "      <td>1 (Converted)</td>\n",
       "      <td>2116</td>\n",
       "    </tr>\n",
       "  </tbody>\n",
       "</table>\n",
       "</div>"
      ],
      "text/plain": [
       "            conversion  count\n",
       "0  0 (Did not Convert)  11503\n",
       "1        1 (Converted)   2116"
      ]
     },
     "execution_count": 10,
     "metadata": {},
     "output_type": "execute_result"
    }
   ],
   "source": [
    "conversion_distribution"
   ]
  },
  {
   "cell_type": "code",
   "execution_count": null,
   "id": "6ada1989-5f99-44c1-a793-88c4fd170835",
   "metadata": {},
   "outputs": [],
   "source": []
  },
  {
   "cell_type": "code",
   "execution_count": 11,
   "id": "74ccad4d-2613-4246-9967-578a455be17c",
   "metadata": {},
   "outputs": [
    {
     "data": {
      "text/html": [
       "<div>\n",
       "<style scoped>\n",
       "    .dataframe tbody tr th:only-of-type {\n",
       "        vertical-align: middle;\n",
       "    }\n",
       "\n",
       "    .dataframe tbody tr th {\n",
       "        vertical-align: top;\n",
       "    }\n",
       "\n",
       "    .dataframe thead th {\n",
       "        text-align: right;\n",
       "    }\n",
       "</style>\n",
       "<table border=\"1\" class=\"dataframe\">\n",
       "  <thead>\n",
       "    <tr style=\"text-align: right;\">\n",
       "      <th></th>\n",
       "      <th>conversion</th>\n",
       "      <th>average_call_duration</th>\n",
       "      <th>average_household_income</th>\n",
       "    </tr>\n",
       "  </thead>\n",
       "  <tbody>\n",
       "    <tr>\n",
       "      <th>0</th>\n",
       "      <td>0.0</td>\n",
       "      <td>541.572807</td>\n",
       "      <td>410629.958140</td>\n",
       "    </tr>\n",
       "    <tr>\n",
       "      <th>1</th>\n",
       "      <td>1.0</td>\n",
       "      <td>1854.707940</td>\n",
       "      <td>42615.479905</td>\n",
       "    </tr>\n",
       "  </tbody>\n",
       "</table>\n",
       "</div>"
      ],
      "text/plain": [
       "   conversion  average_call_duration  average_household_income\n",
       "0         0.0             541.572807             410629.958140\n",
       "1         1.0            1854.707940              42615.479905"
      ]
     },
     "execution_count": 11,
     "metadata": {},
     "output_type": "execute_result"
    }
   ],
   "source": [
    "average_call_income = coversion_df.groupby('conversion').agg(average_call_duration=('call_duration', 'mean'),\n",
    "                            average_household_income=('household_income', 'mean')\n",
    "                            ).reset_index()\n",
    "average_call_income"
   ]
  },
  {
   "cell_type": "code",
   "execution_count": 12,
   "id": "99094313-628a-4c40-8c37-f54f8a6575a9",
   "metadata": {},
   "outputs": [
    {
     "data": {
      "image/png": "[encoded data removed]",
      "text/plain": [
       "<Figure size 1000x500 with 1 Axes>"
      ]
     },
     "metadata": {},
     "output_type": "display_data"
    }
   ],
   "source": [
    "plt.figure(figsize=(10,5))\n",
    "\n",
    "plt.bar(average_call_income['conversion'].astype(str), average_call_income['average_call_duration'])\n",
    "plt.title('Average Call Duration by Conversion Type')\n",
    "plt.xlabel('Conversion')\n",
    "plt.ylabel('Average Call Duration')\n",
    "plt.show()"
   ]
  },
  {
   "cell_type": "code",
   "execution_count": null,
   "id": "2052a89e-564f-43b9-8190-d870e67af23d",
   "metadata": {},
   "outputs": [],
   "source": []
  },
  {
   "cell_type": "markdown",
   "id": "3972a0a9-f8b5-45db-9b77-974b11b191f8",
   "metadata": {},
   "source": [
    "#### This buyer (buyer_id=63253) is active during the holiday season between November to January."
   ]
  },
  {
   "cell_type": "code",
   "execution_count": 13,
   "id": "5880c6b3-2256-491a-adde-91fd4c012ea0",
   "metadata": {},
   "outputs": [
    {
     "data": {
      "text/html": [
       "<div>\n",
       "<style scoped>\n",
       "    .dataframe tbody tr th:only-of-type {\n",
       "        vertical-align: middle;\n",
       "    }\n",
       "\n",
       "    .dataframe tbody tr th {\n",
       "        vertical-align: top;\n",
       "    }\n",
       "\n",
       "    .dataframe thead th {\n",
       "        text-align: right;\n",
       "    }\n",
       "</style>\n",
       "<table border=\"1\" class=\"dataframe\">\n",
       "  <thead>\n",
       "    <tr style=\"text-align: right;\">\n",
       "      <th></th>\n",
       "      <th>month</th>\n",
       "      <th>converted</th>\n",
       "      <th>total_calls</th>\n",
       "      <th>conversion_rate</th>\n",
       "    </tr>\n",
       "  </thead>\n",
       "  <tbody>\n",
       "    <tr>\n",
       "      <th>0</th>\n",
       "      <td>1</td>\n",
       "      <td>597.0</td>\n",
       "      <td>3721</td>\n",
       "      <td>0.160441</td>\n",
       "    </tr>\n",
       "    <tr>\n",
       "      <th>1</th>\n",
       "      <td>12</td>\n",
       "      <td>520.0</td>\n",
       "      <td>2998</td>\n",
       "      <td>0.173449</td>\n",
       "    </tr>\n",
       "    <tr>\n",
       "      <th>2</th>\n",
       "      <td>11</td>\n",
       "      <td>498.0</td>\n",
       "      <td>2912</td>\n",
       "      <td>0.171016</td>\n",
       "    </tr>\n",
       "    <tr>\n",
       "      <th>3</th>\n",
       "      <td>2</td>\n",
       "      <td>200.0</td>\n",
       "      <td>1709</td>\n",
       "      <td>0.117028</td>\n",
       "    </tr>\n",
       "    <tr>\n",
       "      <th>4</th>\n",
       "      <td>3</td>\n",
       "      <td>115.0</td>\n",
       "      <td>1204</td>\n",
       "      <td>0.095515</td>\n",
       "    </tr>\n",
       "    <tr>\n",
       "      <th>5</th>\n",
       "      <td>10</td>\n",
       "      <td>186.0</td>\n",
       "      <td>1075</td>\n",
       "      <td>0.173023</td>\n",
       "    </tr>\n",
       "  </tbody>\n",
       "</table>\n",
       "</div>"
      ],
      "text/plain": [
       "   month  converted  total_calls  conversion_rate\n",
       "0      1      597.0         3721         0.160441\n",
       "1     12      520.0         2998         0.173449\n",
       "2     11      498.0         2912         0.171016\n",
       "3      2      200.0         1709         0.117028\n",
       "4      3      115.0         1204         0.095515\n",
       "5     10      186.0         1075         0.173023"
      ]
     },
     "execution_count": 13,
     "metadata": {},
     "output_type": "execute_result"
    }
   ],
   "source": [
    "monthly_conversions = coversion_df.groupby('month').agg(converted=('conversion', 'sum'),\n",
    "                        total_calls=('conversion', 'count'),\n",
    "                            ).sort_values(by='total_calls', ascending=False).reset_index()\n",
    "monthly_conversions['conversion_rate'] = monthly_conversions['converted']/monthly_conversions['total_calls']\n",
    "monthly_conversions"
   ]
  },
  {
   "cell_type": "markdown",
   "id": "4899f7a6-37dc-4abe-ab9a-dc72c9d98b37",
   "metadata": {},
   "source": [
    "#### **Note:**\n",
    "\n",
    "This section is just a brief analysis to get a quick idea of the data set we are working with. Further analysis will be conducted in **Exploratory Data Analysis (Part Two)**"
   ]
  },
  {
   "cell_type": "markdown",
   "id": "b2798642-c203-41f3-b95e-5120af91f5c5",
   "metadata": {},
   "source": [
    "<hr style=\"border:5px solid Black\">"
   ]
  },
  {
   "cell_type": "markdown",
   "id": "ea7e52bb-0f3d-4634-9f66-631d3405c709",
   "metadata": {},
   "source": [
    "<h2 style=\"color: blue;\">Pre-Processing</h2>"
   ]
  },
  {
   "cell_type": "markdown",
   "id": "5242c819-87da-467c-9322-7b47d227f245",
   "metadata": {},
   "source": [
    "<hr style=\"border:3px solid Black\">"
   ]
  },
  {
   "cell_type": "markdown",
   "id": "89aa6f25-7ef8-41da-8e1e-40a0deb0abac",
   "metadata": {},
   "source": [
    "#### We will remove colums 'call_id', 'phone_num_hash', 'time', and 'seller_type' because they are basically unique IDs and do not have effects for predition later on. On the other hand, seller_type only contains one value so it is also removed."
   ]
  },
  {
   "cell_type": "code",
   "execution_count": 14,
   "id": "2bd3db86-dca3-4189-88d0-a7514b574c00",
   "metadata": {},
   "outputs": [],
   "source": [
    "sample_cleaned = sample_cleaned.drop(columns=['call_id', 'phone_num_hash', 'time', 'seller_type'], axis=1)"
   ]
  },
  {
   "cell_type": "markdown",
   "id": "a391bfa4-99c8-46c4-9d32-2a5b6b15b6eb",
   "metadata": {},
   "source": [
    "#### Impute the remaining missing values\n",
    "For categorical values, impute the columns with its mode. For non-categorcal values, impute the columns with its median. This is because the columns are not normally distributed and instead skewed."
   ]
  },
  {
   "cell_type": "code",
   "execution_count": 15,
   "id": "e3321841-79be-4241-8de7-3deb0f5edbd3",
   "metadata": {},
   "outputs": [],
   "source": [
    "def impute_null_values(dataframe):\n",
    "    # Select categorical and non-categorical columns\n",
    "    categorical = dataframe.select_dtypes(include='object').columns\n",
    "    non_categorical = dataframe.select_dtypes(exclude='object').columns\n",
    "    \n",
    "    # Impute categorical columns with mode\n",
    "    for col in categorical:\n",
    "        mode_value = dataframe[col].mode()[0]\n",
    "        dataframe[col].fillna(mode_value, inplace=True)\n",
    "    \n",
    "    # Impute non-categorical columns with median\n",
    "    for col in non_categorical:\n",
    "        if col == 'conversion':\n",
    "            continue\n",
    "        median_value = dataframe[col].median() # Median imputation because data is skewed.\n",
    "        dataframe[col].fillna(median_value, inplace=True)\n",
    "    \n",
    "    return dataframe"
   ]
  },
  {
   "cell_type": "code",
   "execution_count": 16,
   "id": "86e2713a-9953-45bd-bb3c-810d5c60d932",
   "metadata": {},
   "outputs": [
    {
     "name": "stdout",
     "output_type": "stream",
     "text": [
      "<class 'pandas.core.frame.DataFrame'>\n",
      "RangeIndex: 99546 entries, 0 to 99545\n",
      "Data columns (total 16 columns):\n",
      " #   Column            Non-Null Count  Dtype  \n",
      "---  ------            --------------  -----  \n",
      " 0   buyer_id          99546 non-null  float64\n",
      " 1   source_id         99546 non-null  int64  \n",
      " 2   call_duration     99546 non-null  int64  \n",
      " 3   conversion        13619 non-null  float64\n",
      " 4   state             99546 non-null  object \n",
      " 5   connection_type   99546 non-null  object \n",
      " 6   browser           99546 non-null  object \n",
      " 7   browser_platform  99546 non-null  object \n",
      " 8   device            99546 non-null  object \n",
      " 9   age               99546 non-null  float64\n",
      " 10  gender            99546 non-null  object \n",
      " 11  household_income  99546 non-null  float64\n",
      " 12  household_size    99546 non-null  int64  \n",
      " 13  subsidy           99546 non-null  object \n",
      " 14  seller_id         99546 non-null  int64  \n",
      " 15  month             99546 non-null  int32  \n",
      "dtypes: float64(4), int32(1), int64(4), object(7)\n",
      "memory usage: 11.8+ MB\n"
     ]
    }
   ],
   "source": [
    "sample_cleaned = impute_null_values(sample_cleaned)\n",
    "sample_cleaned.info()"
   ]
  },
  {
   "cell_type": "code",
   "execution_count": null,
   "id": "4b0c0621-5ce3-43ab-92ce-815a9e36f572",
   "metadata": {},
   "outputs": [],
   "source": []
  },
  {
   "cell_type": "markdown",
   "id": "34792a9a-0bf3-45fb-a882-8830b6034e7d",
   "metadata": {},
   "source": [
    "#### Now we will use Scikitlearn's LabelEncoder() to convert the categorical variables into numeric. This is so we can input these into ML model"
   ]
  },
  {
   "cell_type": "code",
   "execution_count": 17,
   "id": "4c24dad8-ba58-4130-8473-7b37f1ce6c11",
   "metadata": {},
   "outputs": [],
   "source": [
    "def encode_cat_values(dataframe):\n",
    "        # Select categorical and non-categorical columns\n",
    "    categorical = dataframe.select_dtypes(include='object').columns\n",
    "\n",
    "    label_encoder = LabelEncoder()\n",
    "    for i in categorical:\n",
    "        dataframe[i] = label_encoder.fit_transform(dataframe[i])\n",
    "        \n",
    "    return dataframe"
   ]
  },
  {
   "cell_type": "code",
   "execution_count": 18,
   "id": "71fb3fc8-5c31-437a-97a7-aa7deee427b4",
   "metadata": {},
   "outputs": [
    {
     "name": "stdout",
     "output_type": "stream",
     "text": [
      "<class 'pandas.core.frame.DataFrame'>\n",
      "RangeIndex: 99546 entries, 0 to 99545\n",
      "Data columns (total 16 columns):\n",
      " #   Column            Non-Null Count  Dtype  \n",
      "---  ------            --------------  -----  \n",
      " 0   buyer_id          99546 non-null  float64\n",
      " 1   source_id         99546 non-null  int64  \n",
      " 2   call_duration     99546 non-null  int64  \n",
      " 3   conversion        13619 non-null  float64\n",
      " 4   state             99546 non-null  int32  \n",
      " 5   connection_type   99546 non-null  int32  \n",
      " 6   browser           99546 non-null  int32  \n",
      " 7   browser_platform  99546 non-null  int32  \n",
      " 8   device            99546 non-null  int32  \n",
      " 9   age               99546 non-null  float64\n",
      " 10  gender            99546 non-null  int32  \n",
      " 11  household_income  99546 non-null  float64\n",
      " 12  household_size    99546 non-null  int64  \n",
      " 13  subsidy           99546 non-null  int32  \n",
      " 14  seller_id         99546 non-null  int64  \n",
      " 15  month             99546 non-null  int32  \n",
      "dtypes: float64(4), int32(8), int64(4)\n",
      "memory usage: 9.1 MB\n"
     ]
    }
   ],
   "source": [
    "sample_cleaned = encode_cat_values(sample_cleaned)\n",
    "sample_cleaned.info()"
   ]
  },
  {
   "cell_type": "code",
   "execution_count": null,
   "id": "e3488dec-cc33-4e3f-9f4f-2b5a5915ebcb",
   "metadata": {},
   "outputs": [],
   "source": []
  },
  {
   "cell_type": "markdown",
   "id": "cf9217f5-7fbf-429a-9a34-227b639da620",
   "metadata": {},
   "source": [
    "<hr style=\"border:5px solid Black\">"
   ]
  },
  {
   "cell_type": "markdown",
   "id": "c18e2e17-0c21-4733-8da8-e7a42178dd6d",
   "metadata": {},
   "source": [
    "<h2 style=\"color: blue;\">Model Building</h2>"
   ]
  },
  {
   "cell_type": "markdown",
   "id": "0dc49b53-3de7-4475-9459-bb4fc7bdb258",
   "metadata": {},
   "source": [
    "<hr style=\"border:3px solid Black\">"
   ]
  },
  {
   "cell_type": "markdown",
   "id": "993c20ba-5ad9-4cb9-a3e9-d866d9cd315b",
   "metadata": {},
   "source": [
    "### **Task 1: Estimate the likelihood of conversion for every call**"
   ]
  },
  {
   "cell_type": "markdown",
   "id": "f6ec1bd1-d410-4b10-a0ba-ae1c8dc3b9bb",
   "metadata": {},
   "source": [
    "**Issue:** Only one buyer (buyer_id = 63253) has conversion data and the rest are NaN in the conversion column.  "
   ]
  },
  {
   "cell_type": "markdown",
   "id": "fe440246-d079-4701-abd6-7e9014e6ee62",
   "metadata": {},
   "source": [
    "Our data is sparse as there are a lot more records without conversion data in the data set."
   ]
  },
  {
   "cell_type": "code",
   "execution_count": 19,
   "id": "d7b6f538-49d0-4dc6-b040-9533ded9bed2",
   "metadata": {},
   "outputs": [
    {
     "data": {
      "text/html": [
       "<div>\n",
       "<style scoped>\n",
       "    .dataframe tbody tr th:only-of-type {\n",
       "        vertical-align: middle;\n",
       "    }\n",
       "\n",
       "    .dataframe tbody tr th {\n",
       "        vertical-align: top;\n",
       "    }\n",
       "\n",
       "    .dataframe thead th {\n",
       "        text-align: right;\n",
       "    }\n",
       "</style>\n",
       "<table border=\"1\" class=\"dataframe\">\n",
       "  <thead>\n",
       "    <tr style=\"text-align: right;\">\n",
       "      <th></th>\n",
       "      <th>conversion</th>\n",
       "      <th>count</th>\n",
       "    </tr>\n",
       "  </thead>\n",
       "  <tbody>\n",
       "    <tr>\n",
       "      <th>0</th>\n",
       "      <td>NaN</td>\n",
       "      <td>85927</td>\n",
       "    </tr>\n",
       "    <tr>\n",
       "      <th>1</th>\n",
       "      <td>0.0</td>\n",
       "      <td>11503</td>\n",
       "    </tr>\n",
       "    <tr>\n",
       "      <th>2</th>\n",
       "      <td>1.0</td>\n",
       "      <td>2116</td>\n",
       "    </tr>\n",
       "  </tbody>\n",
       "</table>\n",
       "</div>"
      ],
      "text/plain": [
       "   conversion  count\n",
       "0         NaN  85927\n",
       "1         0.0  11503\n",
       "2         1.0   2116"
      ]
     },
     "execution_count": 19,
     "metadata": {},
     "output_type": "execute_result"
    }
   ],
   "source": [
    "sample['conversion'].value_counts(dropna=False).reset_index() # Our data is sparse"
   ]
  },
  {
   "cell_type": "markdown",
   "id": "33872a86-75f2-4638-96d9-08ef7c805652",
   "metadata": {},
   "source": [
    "#### Approach: Binary Classsification for Conversion Prediction\n",
    "Predict missing values in conversion based on the data provided for buyer_id = 63253 and other available features.\n",
    "Let's use the 'sample_cleaned' data frame from the pre-processing section earlier as this data frame only includes records with conversion data. We will call this data frame 'cleaned_df'. "
   ]
  },
  {
   "cell_type": "code",
   "execution_count": 20,
   "id": "72e00908-e9aa-490e-a65d-6f79e214274e",
   "metadata": {},
   "outputs": [
    {
     "data": {
      "text/html": [
       "<div>\n",
       "<style scoped>\n",
       "    .dataframe tbody tr th:only-of-type {\n",
       "        vertical-align: middle;\n",
       "    }\n",
       "\n",
       "    .dataframe tbody tr th {\n",
       "        vertical-align: top;\n",
       "    }\n",
       "\n",
       "    .dataframe thead th {\n",
       "        text-align: right;\n",
       "    }\n",
       "</style>\n",
       "<table border=\"1\" class=\"dataframe\">\n",
       "  <thead>\n",
       "    <tr style=\"text-align: right;\">\n",
       "      <th></th>\n",
       "      <th>buyer_id</th>\n",
       "      <th>source_id</th>\n",
       "      <th>call_duration</th>\n",
       "      <th>conversion</th>\n",
       "      <th>state</th>\n",
       "      <th>connection_type</th>\n",
       "      <th>browser</th>\n",
       "      <th>browser_platform</th>\n",
       "      <th>device</th>\n",
       "      <th>age</th>\n",
       "      <th>gender</th>\n",
       "      <th>household_income</th>\n",
       "      <th>household_size</th>\n",
       "      <th>subsidy</th>\n",
       "      <th>seller_id</th>\n",
       "      <th>month</th>\n",
       "    </tr>\n",
       "  </thead>\n",
       "  <tbody>\n",
       "    <tr>\n",
       "      <th>7</th>\n",
       "      <td>63253.0</td>\n",
       "      <td>3330</td>\n",
       "      <td>303</td>\n",
       "      <td>0.0</td>\n",
       "      <td>36</td>\n",
       "      <td>0</td>\n",
       "      <td>6</td>\n",
       "      <td>2</td>\n",
       "      <td>1</td>\n",
       "      <td>35.0</td>\n",
       "      <td>1</td>\n",
       "      <td>20000.0</td>\n",
       "      <td>1</td>\n",
       "      <td>0</td>\n",
       "      <td>507</td>\n",
       "      <td>10</td>\n",
       "    </tr>\n",
       "    <tr>\n",
       "      <th>9</th>\n",
       "      <td>63253.0</td>\n",
       "      <td>3330</td>\n",
       "      <td>22</td>\n",
       "      <td>0.0</td>\n",
       "      <td>9</td>\n",
       "      <td>0</td>\n",
       "      <td>6</td>\n",
       "      <td>2</td>\n",
       "      <td>1</td>\n",
       "      <td>21.0</td>\n",
       "      <td>0</td>\n",
       "      <td>23500.0</td>\n",
       "      <td>3</td>\n",
       "      <td>0</td>\n",
       "      <td>507</td>\n",
       "      <td>10</td>\n",
       "    </tr>\n",
       "    <tr>\n",
       "      <th>13</th>\n",
       "      <td>63253.0</td>\n",
       "      <td>3330</td>\n",
       "      <td>74</td>\n",
       "      <td>0.0</td>\n",
       "      <td>35</td>\n",
       "      <td>0</td>\n",
       "      <td>0</td>\n",
       "      <td>0</td>\n",
       "      <td>1</td>\n",
       "      <td>32.0</td>\n",
       "      <td>0</td>\n",
       "      <td>23000.0</td>\n",
       "      <td>2</td>\n",
       "      <td>0</td>\n",
       "      <td>507</td>\n",
       "      <td>10</td>\n",
       "    </tr>\n",
       "    <tr>\n",
       "      <th>28</th>\n",
       "      <td>63253.0</td>\n",
       "      <td>3330</td>\n",
       "      <td>1049</td>\n",
       "      <td>0.0</td>\n",
       "      <td>9</td>\n",
       "      <td>0</td>\n",
       "      <td>6</td>\n",
       "      <td>2</td>\n",
       "      <td>1</td>\n",
       "      <td>60.0</td>\n",
       "      <td>0</td>\n",
       "      <td>23500.0</td>\n",
       "      <td>2</td>\n",
       "      <td>0</td>\n",
       "      <td>507</td>\n",
       "      <td>10</td>\n",
       "    </tr>\n",
       "    <tr>\n",
       "      <th>34</th>\n",
       "      <td>63253.0</td>\n",
       "      <td>3330</td>\n",
       "      <td>831</td>\n",
       "      <td>0.0</td>\n",
       "      <td>27</td>\n",
       "      <td>1</td>\n",
       "      <td>6</td>\n",
       "      <td>2</td>\n",
       "      <td>1</td>\n",
       "      <td>35.0</td>\n",
       "      <td>0</td>\n",
       "      <td>16000.0</td>\n",
       "      <td>1</td>\n",
       "      <td>0</td>\n",
       "      <td>507</td>\n",
       "      <td>10</td>\n",
       "    </tr>\n",
       "    <tr>\n",
       "      <th>...</th>\n",
       "      <td>...</td>\n",
       "      <td>...</td>\n",
       "      <td>...</td>\n",
       "      <td>...</td>\n",
       "      <td>...</td>\n",
       "      <td>...</td>\n",
       "      <td>...</td>\n",
       "      <td>...</td>\n",
       "      <td>...</td>\n",
       "      <td>...</td>\n",
       "      <td>...</td>\n",
       "      <td>...</td>\n",
       "      <td>...</td>\n",
       "      <td>...</td>\n",
       "      <td>...</td>\n",
       "      <td>...</td>\n",
       "    </tr>\n",
       "    <tr>\n",
       "      <th>98160</th>\n",
       "      <td>63253.0</td>\n",
       "      <td>1511688</td>\n",
       "      <td>39</td>\n",
       "      <td>0.0</td>\n",
       "      <td>32</td>\n",
       "      <td>1</td>\n",
       "      <td>2</td>\n",
       "      <td>2</td>\n",
       "      <td>1</td>\n",
       "      <td>40.0</td>\n",
       "      <td>0</td>\n",
       "      <td>30000.0</td>\n",
       "      <td>1</td>\n",
       "      <td>2</td>\n",
       "      <td>507</td>\n",
       "      <td>11</td>\n",
       "    </tr>\n",
       "    <tr>\n",
       "      <th>99497</th>\n",
       "      <td>63253.0</td>\n",
       "      <td>2410066</td>\n",
       "      <td>148</td>\n",
       "      <td>0.0</td>\n",
       "      <td>5</td>\n",
       "      <td>0</td>\n",
       "      <td>0</td>\n",
       "      <td>0</td>\n",
       "      <td>1</td>\n",
       "      <td>41.0</td>\n",
       "      <td>0</td>\n",
       "      <td>16000.0</td>\n",
       "      <td>2</td>\n",
       "      <td>0</td>\n",
       "      <td>507</td>\n",
       "      <td>3</td>\n",
       "    </tr>\n",
       "    <tr>\n",
       "      <th>99510</th>\n",
       "      <td>63253.0</td>\n",
       "      <td>2410066</td>\n",
       "      <td>133</td>\n",
       "      <td>0.0</td>\n",
       "      <td>40</td>\n",
       "      <td>0</td>\n",
       "      <td>6</td>\n",
       "      <td>2</td>\n",
       "      <td>1</td>\n",
       "      <td>18.0</td>\n",
       "      <td>0</td>\n",
       "      <td>16000.0</td>\n",
       "      <td>1</td>\n",
       "      <td>0</td>\n",
       "      <td>507</td>\n",
       "      <td>3</td>\n",
       "    </tr>\n",
       "    <tr>\n",
       "      <th>99516</th>\n",
       "      <td>63253.0</td>\n",
       "      <td>2410066</td>\n",
       "      <td>690</td>\n",
       "      <td>0.0</td>\n",
       "      <td>38</td>\n",
       "      <td>0</td>\n",
       "      <td>0</td>\n",
       "      <td>0</td>\n",
       "      <td>1</td>\n",
       "      <td>61.0</td>\n",
       "      <td>0</td>\n",
       "      <td>16000.0</td>\n",
       "      <td>1</td>\n",
       "      <td>0</td>\n",
       "      <td>507</td>\n",
       "      <td>3</td>\n",
       "    </tr>\n",
       "    <tr>\n",
       "      <th>99528</th>\n",
       "      <td>63253.0</td>\n",
       "      <td>2410064</td>\n",
       "      <td>84</td>\n",
       "      <td>0.0</td>\n",
       "      <td>19</td>\n",
       "      <td>0</td>\n",
       "      <td>6</td>\n",
       "      <td>2</td>\n",
       "      <td>1</td>\n",
       "      <td>26.0</td>\n",
       "      <td>0</td>\n",
       "      <td>23500.0</td>\n",
       "      <td>1</td>\n",
       "      <td>2</td>\n",
       "      <td>506</td>\n",
       "      <td>3</td>\n",
       "    </tr>\n",
       "  </tbody>\n",
       "</table>\n",
       "<p>13619 rows × 16 columns</p>\n",
       "</div>"
      ],
      "text/plain": [
       "       buyer_id  source_id  call_duration  conversion  state  connection_type  \\\n",
       "7       63253.0       3330            303         0.0     36                0   \n",
       "9       63253.0       3330             22         0.0      9                0   \n",
       "13      63253.0       3330             74         0.0     35                0   \n",
       "28      63253.0       3330           1049         0.0      9                0   \n",
       "34      63253.0       3330            831         0.0     27                1   \n",
       "...         ...        ...            ...         ...    ...              ...   \n",
       "98160   63253.0    1511688             39         0.0     32                1   \n",
       "99497   63253.0    2410066            148         0.0      5                0   \n",
       "99510   63253.0    2410066            133         0.0     40                0   \n",
       "99516   63253.0    2410066            690         0.0     38                0   \n",
       "99528   63253.0    2410064             84         0.0     19                0   \n",
       "\n",
       "       browser  browser_platform  device   age  gender  household_income  \\\n",
       "7            6                 2       1  35.0       1           20000.0   \n",
       "9            6                 2       1  21.0       0           23500.0   \n",
       "13           0                 0       1  32.0       0           23000.0   \n",
       "28           6                 2       1  60.0       0           23500.0   \n",
       "34           6                 2       1  35.0       0           16000.0   \n",
       "...        ...               ...     ...   ...     ...               ...   \n",
       "98160        2                 2       1  40.0       0           30000.0   \n",
       "99497        0                 0       1  41.0       0           16000.0   \n",
       "99510        6                 2       1  18.0       0           16000.0   \n",
       "99516        0                 0       1  61.0       0           16000.0   \n",
       "99528        6                 2       1  26.0       0           23500.0   \n",
       "\n",
       "       household_size  subsidy  seller_id  month  \n",
       "7                   1        0        507     10  \n",
       "9                   3        0        507     10  \n",
       "13                  2        0        507     10  \n",
       "28                  2        0        507     10  \n",
       "34                  1        0        507     10  \n",
       "...               ...      ...        ...    ...  \n",
       "98160               1        2        507     11  \n",
       "99497               2        0        507      3  \n",
       "99510               1        0        507      3  \n",
       "99516               1        0        507      3  \n",
       "99528               1        2        506      3  \n",
       "\n",
       "[13619 rows x 16 columns]"
      ]
     },
     "execution_count": 20,
     "metadata": {},
     "output_type": "execute_result"
    }
   ],
   "source": [
    "cleaned_df = sample_cleaned[sample_cleaned['buyer_id'] == 63253]\n",
    "cleaned_df"
   ]
  },
  {
   "cell_type": "code",
   "execution_count": null,
   "id": "f133de00-f0b5-4180-803f-cf5995c0fb9c",
   "metadata": {},
   "outputs": [],
   "source": []
  },
  {
   "cell_type": "markdown",
   "id": "e12d3796-dab2-4723-981a-1096260d0d22",
   "metadata": {},
   "source": [
    "<hr style=\"border:4px solid Black\">"
   ]
  },
  {
   "cell_type": "markdown",
   "id": "d721d425-7b1a-4981-a761-55ad45b51564",
   "metadata": {},
   "source": [
    "#### No non-categorical columns seem to be normally distributed. The 'age' column is the closest to representing a normally distrubed histogram."
   ]
  },
  {
   "cell_type": "code",
   "execution_count": 21,
   "id": "e35371af-2cd6-409a-bafa-05c72386d770",
   "metadata": {},
   "outputs": [
    {
     "data": {
      "image/png": "[encoded data removed]",
      "text/plain": [
       "<Figure size 640x480 with 1 Axes>"
      ]
     },
     "metadata": {},
     "output_type": "display_data"
    },
    {
     "data": {
      "image/png": "[encoded data removed]",
      "text/plain": [
       "<Figure size 640x480 with 1 Axes>"
      ]
     },
     "metadata": {},
     "output_type": "display_data"
    },
    {
     "data": {
      "image/png": "[encoded data removed]",
      "text/plain": [
       "<Figure size 640x480 with 1 Axes>"
      ]
     },
     "metadata": {},
     "output_type": "display_data"
    },
    {
     "data": {
      "image/png": "[encoded data removed]",
      "text/plain": [
       "<Figure size 640x480 with 1 Axes>"
      ]
     },
     "metadata": {},
     "output_type": "display_data"
    },
    {
     "data": {
      "image/png": "[encoded data removed]",
      "text/plain": [
       "<Figure size 640x480 with 1 Axes>"
      ]
     },
     "metadata": {},
     "output_type": "display_data"
    },
    {
     "data": {
      "image/png": "[encoded data removed]",
      "text/plain": [
       "<Figure size 640x480 with 1 Axes>"
      ]
     },
     "metadata": {},
     "output_type": "display_data"
    },
    {
     "data": {
      "image/png": "[encoded data removed]",
      "text/plain": [
       "<Figure size 640x480 with 1 Axes>"
      ]
     },
     "metadata": {},
     "output_type": "display_data"
    },
    {
     "data": {
      "image/png": "[encoded data removed]",
      "text/plain": [
       "<Figure size 640x480 with 1 Axes>"
      ]
     },
     "metadata": {},
     "output_type": "display_data"
    },
    {
     "data": {
      "image/png": "[encoded data removed]",
      "text/plain": [
       "<Figure size 640x480 with 1 Axes>"
      ]
     },
     "metadata": {},
     "output_type": "display_data"
    },
    {
     "data": {
      "image/png": "[encoded data removed]",
      "text/plain": [
       "<Figure size 640x480 with 1 Axes>"
      ]
     },
     "metadata": {},
     "output_type": "display_data"
    },
    {
     "data": {
      "image/png": "[encoded data removed]",
      "text/plain": [
       "<Figure size 640x480 with 1 Axes>"
      ]
     },
     "metadata": {},
     "output_type": "display_data"
    },
    {
     "data": {
      "image/png": "[encoded data removed]",
      "text/plain": [
       "<Figure size 640x480 with 1 Axes>"
      ]
     },
     "metadata": {},
     "output_type": "display_data"
    },
    {
     "data": {
      "image/png": "[encoded data removed]",
      "text/plain": [
       "<Figure size 640x480 with 1 Axes>"
      ]
     },
     "metadata": {},
     "output_type": "display_data"
    },
    {
     "data": {
      "image/png": "[encoded data removed]",
      "text/plain": [
       "<Figure size 640x480 with 1 Axes>"
      ]
     },
     "metadata": {},
     "output_type": "display_data"
    },
    {
     "data": {
      "image/png": "[encoded data removed]",
      "text/plain": [
       "<Figure size 640x480 with 1 Axes>"
      ]
     },
     "metadata": {},
     "output_type": "display_data"
    },
    {
     "data": {
      "image/png": "[encoded data removed]",
      "text/plain": [
       "<Figure size 640x480 with 1 Axes>"
      ]
     },
     "metadata": {},
     "output_type": "display_data"
    }
   ],
   "source": [
    "non_categorical = cleaned_df.select_dtypes(exclude='object').columns\n",
    "\n",
    "for i in non_categorical:\n",
    "    plt.hist(cleaned_df[i].value_counts())\n",
    "    plt.title(i)\n",
    "    plt.show()"
   ]
  },
  {
   "cell_type": "markdown",
   "id": "dbcdb616-3595-4b32-9dfa-c90916d559bb",
   "metadata": {},
   "source": [
    "<hr style=\"border:4px solid Black\">"
   ]
  },
  {
   "cell_type": "code",
   "execution_count": 22,
   "id": "4ff84f91-a917-4eeb-8bc0-323eff5a50ae",
   "metadata": {},
   "outputs": [
    {
     "data": {
      "text/html": [
       "<div>\n",
       "<style scoped>\n",
       "    .dataframe tbody tr th:only-of-type {\n",
       "        vertical-align: middle;\n",
       "    }\n",
       "\n",
       "    .dataframe tbody tr th {\n",
       "        vertical-align: top;\n",
       "    }\n",
       "\n",
       "    .dataframe thead th {\n",
       "        text-align: right;\n",
       "    }\n",
       "</style>\n",
       "<table border=\"1\" class=\"dataframe\">\n",
       "  <thead>\n",
       "    <tr style=\"text-align: right;\">\n",
       "      <th></th>\n",
       "      <th>buyer_id</th>\n",
       "      <th>source_id</th>\n",
       "      <th>call_duration</th>\n",
       "      <th>conversion</th>\n",
       "      <th>state</th>\n",
       "      <th>connection_type</th>\n",
       "      <th>browser</th>\n",
       "      <th>browser_platform</th>\n",
       "      <th>device</th>\n",
       "      <th>age</th>\n",
       "      <th>gender</th>\n",
       "      <th>household_income</th>\n",
       "      <th>household_size</th>\n",
       "      <th>subsidy</th>\n",
       "      <th>seller_id</th>\n",
       "      <th>month</th>\n",
       "    </tr>\n",
       "  </thead>\n",
       "  <tbody>\n",
       "    <tr>\n",
       "      <th>buyer_id</th>\n",
       "      <td>NaN</td>\n",
       "      <td>NaN</td>\n",
       "      <td>NaN</td>\n",
       "      <td>NaN</td>\n",
       "      <td>NaN</td>\n",
       "      <td>NaN</td>\n",
       "      <td>NaN</td>\n",
       "      <td>NaN</td>\n",
       "      <td>NaN</td>\n",
       "      <td>NaN</td>\n",
       "      <td>NaN</td>\n",
       "      <td>NaN</td>\n",
       "      <td>NaN</td>\n",
       "      <td>NaN</td>\n",
       "      <td>NaN</td>\n",
       "      <td>NaN</td>\n",
       "    </tr>\n",
       "    <tr>\n",
       "      <th>source_id</th>\n",
       "      <td>NaN</td>\n",
       "      <td>1.000000</td>\n",
       "      <td>0.018797</td>\n",
       "      <td>0.011818</td>\n",
       "      <td>0.305233</td>\n",
       "      <td>-0.013433</td>\n",
       "      <td>-0.035651</td>\n",
       "      <td>0.080598</td>\n",
       "      <td>-0.059713</td>\n",
       "      <td>0.036285</td>\n",
       "      <td>0.001922</td>\n",
       "      <td>-0.004788</td>\n",
       "      <td>0.026595</td>\n",
       "      <td>0.014855</td>\n",
       "      <td>0.954857</td>\n",
       "      <td>-0.155216</td>\n",
       "    </tr>\n",
       "    <tr>\n",
       "      <th>call_duration</th>\n",
       "      <td>NaN</td>\n",
       "      <td>0.018797</td>\n",
       "      <td>1.000000</td>\n",
       "      <td>0.547599</td>\n",
       "      <td>-0.020911</td>\n",
       "      <td>-0.052100</td>\n",
       "      <td>-0.040525</td>\n",
       "      <td>0.138862</td>\n",
       "      <td>-0.112537</td>\n",
       "      <td>0.134529</td>\n",
       "      <td>0.004620</td>\n",
       "      <td>-0.006413</td>\n",
       "      <td>0.033649</td>\n",
       "      <td>0.127581</td>\n",
       "      <td>0.045757</td>\n",
       "      <td>0.076287</td>\n",
       "    </tr>\n",
       "    <tr>\n",
       "      <th>conversion</th>\n",
       "      <td>NaN</td>\n",
       "      <td>0.011818</td>\n",
       "      <td>0.547599</td>\n",
       "      <td>1.000000</td>\n",
       "      <td>-0.017304</td>\n",
       "      <td>-0.045844</td>\n",
       "      <td>-0.012794</td>\n",
       "      <td>0.106852</td>\n",
       "      <td>-0.073018</td>\n",
       "      <td>0.092969</td>\n",
       "      <td>0.020094</td>\n",
       "      <td>-0.003588</td>\n",
       "      <td>-0.011895</td>\n",
       "      <td>0.107151</td>\n",
       "      <td>0.031651</td>\n",
       "      <td>0.042048</td>\n",
       "    </tr>\n",
       "    <tr>\n",
       "      <th>state</th>\n",
       "      <td>NaN</td>\n",
       "      <td>0.305233</td>\n",
       "      <td>-0.020911</td>\n",
       "      <td>-0.017304</td>\n",
       "      <td>1.000000</td>\n",
       "      <td>0.005126</td>\n",
       "      <td>-0.034699</td>\n",
       "      <td>0.024810</td>\n",
       "      <td>-0.020076</td>\n",
       "      <td>0.014600</td>\n",
       "      <td>0.003406</td>\n",
       "      <td>-0.002809</td>\n",
       "      <td>0.021574</td>\n",
       "      <td>0.001672</td>\n",
       "      <td>0.281043</td>\n",
       "      <td>-0.042979</td>\n",
       "    </tr>\n",
       "    <tr>\n",
       "      <th>connection_type</th>\n",
       "      <td>NaN</td>\n",
       "      <td>-0.013433</td>\n",
       "      <td>-0.052100</td>\n",
       "      <td>-0.045844</td>\n",
       "      <td>0.005126</td>\n",
       "      <td>1.000000</td>\n",
       "      <td>-0.002718</td>\n",
       "      <td>-0.090367</td>\n",
       "      <td>0.082125</td>\n",
       "      <td>-0.054290</td>\n",
       "      <td>0.004460</td>\n",
       "      <td>-0.005376</td>\n",
       "      <td>-0.011973</td>\n",
       "      <td>0.015440</td>\n",
       "      <td>-0.023615</td>\n",
       "      <td>-0.002897</td>\n",
       "    </tr>\n",
       "    <tr>\n",
       "      <th>browser</th>\n",
       "      <td>NaN</td>\n",
       "      <td>-0.035651</td>\n",
       "      <td>-0.040525</td>\n",
       "      <td>-0.012794</td>\n",
       "      <td>-0.034699</td>\n",
       "      <td>-0.002718</td>\n",
       "      <td>1.000000</td>\n",
       "      <td>-0.166607</td>\n",
       "      <td>0.304402</td>\n",
       "      <td>-0.235830</td>\n",
       "      <td>-0.048270</td>\n",
       "      <td>-0.007474</td>\n",
       "      <td>0.006024</td>\n",
       "      <td>-0.021374</td>\n",
       "      <td>-0.027457</td>\n",
       "      <td>-0.031565</td>\n",
       "    </tr>\n",
       "    <tr>\n",
       "      <th>browser_platform</th>\n",
       "      <td>NaN</td>\n",
       "      <td>0.080598</td>\n",
       "      <td>0.138862</td>\n",
       "      <td>0.106852</td>\n",
       "      <td>0.024810</td>\n",
       "      <td>-0.090367</td>\n",
       "      <td>-0.166607</td>\n",
       "      <td>1.000000</td>\n",
       "      <td>-0.754807</td>\n",
       "      <td>0.065684</td>\n",
       "      <td>0.001912</td>\n",
       "      <td>-0.010513</td>\n",
       "      <td>0.020300</td>\n",
       "      <td>0.049437</td>\n",
       "      <td>0.106432</td>\n",
       "      <td>0.042677</td>\n",
       "    </tr>\n",
       "    <tr>\n",
       "      <th>device</th>\n",
       "      <td>NaN</td>\n",
       "      <td>-0.059713</td>\n",
       "      <td>-0.112537</td>\n",
       "      <td>-0.073018</td>\n",
       "      <td>-0.020076</td>\n",
       "      <td>0.082125</td>\n",
       "      <td>0.304402</td>\n",
       "      <td>-0.754807</td>\n",
       "      <td>1.000000</td>\n",
       "      <td>-0.075728</td>\n",
       "      <td>-0.009140</td>\n",
       "      <td>0.004874</td>\n",
       "      <td>-0.018300</td>\n",
       "      <td>-0.039099</td>\n",
       "      <td>-0.078697</td>\n",
       "      <td>-0.034662</td>\n",
       "    </tr>\n",
       "    <tr>\n",
       "      <th>age</th>\n",
       "      <td>NaN</td>\n",
       "      <td>0.036285</td>\n",
       "      <td>0.134529</td>\n",
       "      <td>0.092969</td>\n",
       "      <td>0.014600</td>\n",
       "      <td>-0.054290</td>\n",
       "      <td>-0.235830</td>\n",
       "      <td>0.065684</td>\n",
       "      <td>-0.075728</td>\n",
       "      <td>1.000000</td>\n",
       "      <td>0.000187</td>\n",
       "      <td>0.011861</td>\n",
       "      <td>-0.015596</td>\n",
       "      <td>0.117736</td>\n",
       "      <td>0.037233</td>\n",
       "      <td>0.070623</td>\n",
       "    </tr>\n",
       "    <tr>\n",
       "      <th>gender</th>\n",
       "      <td>NaN</td>\n",
       "      <td>0.001922</td>\n",
       "      <td>0.004620</td>\n",
       "      <td>0.020094</td>\n",
       "      <td>0.003406</td>\n",
       "      <td>0.004460</td>\n",
       "      <td>-0.048270</td>\n",
       "      <td>0.001912</td>\n",
       "      <td>-0.009140</td>\n",
       "      <td>0.000187</td>\n",
       "      <td>1.000000</td>\n",
       "      <td>-0.007374</td>\n",
       "      <td>-0.069180</td>\n",
       "      <td>0.040388</td>\n",
       "      <td>0.027605</td>\n",
       "      <td>-0.008633</td>\n",
       "    </tr>\n",
       "    <tr>\n",
       "      <th>household_income</th>\n",
       "      <td>NaN</td>\n",
       "      <td>-0.004788</td>\n",
       "      <td>-0.006413</td>\n",
       "      <td>-0.003588</td>\n",
       "      <td>-0.002809</td>\n",
       "      <td>-0.005376</td>\n",
       "      <td>-0.007474</td>\n",
       "      <td>-0.010513</td>\n",
       "      <td>0.004874</td>\n",
       "      <td>0.011861</td>\n",
       "      <td>-0.007374</td>\n",
       "      <td>1.000000</td>\n",
       "      <td>-0.005167</td>\n",
       "      <td>-0.001129</td>\n",
       "      <td>-0.003543</td>\n",
       "      <td>0.006114</td>\n",
       "    </tr>\n",
       "    <tr>\n",
       "      <th>household_size</th>\n",
       "      <td>NaN</td>\n",
       "      <td>0.026595</td>\n",
       "      <td>0.033649</td>\n",
       "      <td>-0.011895</td>\n",
       "      <td>0.021574</td>\n",
       "      <td>-0.011973</td>\n",
       "      <td>0.006024</td>\n",
       "      <td>0.020300</td>\n",
       "      <td>-0.018300</td>\n",
       "      <td>-0.015596</td>\n",
       "      <td>-0.069180</td>\n",
       "      <td>-0.005167</td>\n",
       "      <td>1.000000</td>\n",
       "      <td>-0.135043</td>\n",
       "      <td>0.042973</td>\n",
       "      <td>0.037151</td>\n",
       "    </tr>\n",
       "    <tr>\n",
       "      <th>subsidy</th>\n",
       "      <td>NaN</td>\n",
       "      <td>0.014855</td>\n",
       "      <td>0.127581</td>\n",
       "      <td>0.107151</td>\n",
       "      <td>0.001672</td>\n",
       "      <td>0.015440</td>\n",
       "      <td>-0.021374</td>\n",
       "      <td>0.049437</td>\n",
       "      <td>-0.039099</td>\n",
       "      <td>0.117736</td>\n",
       "      <td>0.040388</td>\n",
       "      <td>-0.001129</td>\n",
       "      <td>-0.135043</td>\n",
       "      <td>1.000000</td>\n",
       "      <td>0.002981</td>\n",
       "      <td>0.131704</td>\n",
       "    </tr>\n",
       "    <tr>\n",
       "      <th>seller_id</th>\n",
       "      <td>NaN</td>\n",
       "      <td>0.954857</td>\n",
       "      <td>0.045757</td>\n",
       "      <td>0.031651</td>\n",
       "      <td>0.281043</td>\n",
       "      <td>-0.023615</td>\n",
       "      <td>-0.027457</td>\n",
       "      <td>0.106432</td>\n",
       "      <td>-0.078697</td>\n",
       "      <td>0.037233</td>\n",
       "      <td>0.027605</td>\n",
       "      <td>-0.003543</td>\n",
       "      <td>0.042973</td>\n",
       "      <td>0.002981</td>\n",
       "      <td>1.000000</td>\n",
       "      <td>-0.168354</td>\n",
       "    </tr>\n",
       "    <tr>\n",
       "      <th>month</th>\n",
       "      <td>NaN</td>\n",
       "      <td>-0.155216</td>\n",
       "      <td>0.076287</td>\n",
       "      <td>0.042048</td>\n",
       "      <td>-0.042979</td>\n",
       "      <td>-0.002897</td>\n",
       "      <td>-0.031565</td>\n",
       "      <td>0.042677</td>\n",
       "      <td>-0.034662</td>\n",
       "      <td>0.070623</td>\n",
       "      <td>-0.008633</td>\n",
       "      <td>0.006114</td>\n",
       "      <td>0.037151</td>\n",
       "      <td>0.131704</td>\n",
       "      <td>-0.168354</td>\n",
       "      <td>1.000000</td>\n",
       "    </tr>\n",
       "  </tbody>\n",
       "</table>\n",
       "</div>"
      ],
      "text/plain": [
       "                  buyer_id  source_id  call_duration  conversion     state  \\\n",
       "buyer_id               NaN        NaN            NaN         NaN       NaN   \n",
       "source_id              NaN   1.000000       0.018797    0.011818  0.305233   \n",
       "call_duration          NaN   0.018797       1.000000    0.547599 -0.020911   \n",
       "conversion             NaN   0.011818       0.547599    1.000000 -0.017304   \n",
       "state                  NaN   0.305233      -0.020911   -0.017304  1.000000   \n",
       "connection_type        NaN  -0.013433      -0.052100   -0.045844  0.005126   \n",
       "browser                NaN  -0.035651      -0.040525   -0.012794 -0.034699   \n",
       "browser_platform       NaN   0.080598       0.138862    0.106852  0.024810   \n",
       "device                 NaN  -0.059713      -0.112537   -0.073018 -0.020076   \n",
       "age                    NaN   0.036285       0.134529    0.092969  0.014600   \n",
       "gender                 NaN   0.001922       0.004620    0.020094  0.003406   \n",
       "household_income       NaN  -0.004788      -0.006413   -0.003588 -0.002809   \n",
       "household_size         NaN   0.026595       0.033649   -0.011895  0.021574   \n",
       "subsidy                NaN   0.014855       0.127581    0.107151  0.001672   \n",
       "seller_id              NaN   0.954857       0.045757    0.031651  0.281043   \n",
       "month                  NaN  -0.155216       0.076287    0.042048 -0.042979   \n",
       "\n",
       "                  connection_type   browser  browser_platform    device  \\\n",
       "buyer_id                      NaN       NaN               NaN       NaN   \n",
       "source_id               -0.013433 -0.035651          0.080598 -0.059713   \n",
       "call_duration           -0.052100 -0.040525          0.138862 -0.112537   \n",
       "conversion              -0.045844 -0.012794          0.106852 -0.073018   \n",
       "state                    0.005126 -0.034699          0.024810 -0.020076   \n",
       "connection_type          1.000000 -0.002718         -0.090367  0.082125   \n",
       "browser                 -0.002718  1.000000         -0.166607  0.304402   \n",
       "browser_platform        -0.090367 -0.166607          1.000000 -0.754807   \n",
       "device                   0.082125  0.304402         -0.754807  1.000000   \n",
       "age                     -0.054290 -0.235830          0.065684 -0.075728   \n",
       "gender                   0.004460 -0.048270          0.001912 -0.009140   \n",
       "household_income        -0.005376 -0.007474         -0.010513  0.004874   \n",
       "household_size          -0.011973  0.006024          0.020300 -0.018300   \n",
       "subsidy                  0.015440 -0.021374          0.049437 -0.039099   \n",
       "seller_id               -0.023615 -0.027457          0.106432 -0.078697   \n",
       "month                   -0.002897 -0.031565          0.042677 -0.034662   \n",
       "\n",
       "                       age    gender  household_income  household_size  \\\n",
       "buyer_id               NaN       NaN               NaN             NaN   \n",
       "source_id         0.036285  0.001922         -0.004788        0.026595   \n",
       "call_duration     0.134529  0.004620         -0.006413        0.033649   \n",
       "conversion        0.092969  0.020094         -0.003588       -0.011895   \n",
       "state             0.014600  0.003406         -0.002809        0.021574   \n",
       "connection_type  -0.054290  0.004460         -0.005376       -0.011973   \n",
       "browser          -0.235830 -0.048270         -0.007474        0.006024   \n",
       "browser_platform  0.065684  0.001912         -0.010513        0.020300   \n",
       "device           -0.075728 -0.009140          0.004874       -0.018300   \n",
       "age               1.000000  0.000187          0.011861       -0.015596   \n",
       "gender            0.000187  1.000000         -0.007374       -0.069180   \n",
       "household_income  0.011861 -0.007374          1.000000       -0.005167   \n",
       "household_size   -0.015596 -0.069180         -0.005167        1.000000   \n",
       "subsidy           0.117736  0.040388         -0.001129       -0.135043   \n",
       "seller_id         0.037233  0.027605         -0.003543        0.042973   \n",
       "month             0.070623 -0.008633          0.006114        0.037151   \n",
       "\n",
       "                   subsidy  seller_id     month  \n",
       "buyer_id               NaN        NaN       NaN  \n",
       "source_id         0.014855   0.954857 -0.155216  \n",
       "call_duration     0.127581   0.045757  0.076287  \n",
       "conversion        0.107151   0.031651  0.042048  \n",
       "state             0.001672   0.281043 -0.042979  \n",
       "connection_type   0.015440  -0.023615 -0.002897  \n",
       "browser          -0.021374  -0.027457 -0.031565  \n",
       "browser_platform  0.049437   0.106432  0.042677  \n",
       "device           -0.039099  -0.078697 -0.034662  \n",
       "age               0.117736   0.037233  0.070623  \n",
       "gender            0.040388   0.027605 -0.008633  \n",
       "household_income -0.001129  -0.003543  0.006114  \n",
       "household_size   -0.135043   0.042973  0.037151  \n",
       "subsidy           1.000000   0.002981  0.131704  \n",
       "seller_id         0.002981   1.000000 -0.168354  \n",
       "month             0.131704  -0.168354  1.000000  "
      ]
     },
     "execution_count": 22,
     "metadata": {},
     "output_type": "execute_result"
    }
   ],
   "source": [
    "cleaned_df[non_categorical].corr(method=\"pearson\")"
   ]
  },
  {
   "cell_type": "markdown",
   "id": "b9b62eb9-4a2c-441f-9e3c-284287490e7d",
   "metadata": {},
   "source": [
    "No variables seem to be correlated. call_duration to conversion seems to be the highest correlated variables."
   ]
  },
  {
   "cell_type": "markdown",
   "id": "9b576392-a3be-4702-9521-114d2d433a7a",
   "metadata": {},
   "source": [
    "#### We can remove buyer_id because the data frame only contains one buyer."
   ]
  },
  {
   "cell_type": "code",
   "execution_count": 23,
   "id": "6ecfc6b7-b6eb-4a2b-a2fa-dd6f254cbc9e",
   "metadata": {},
   "outputs": [],
   "source": [
    "cleaned_df = cleaned_df.drop(columns = ['buyer_id'])"
   ]
  },
  {
   "cell_type": "code",
   "execution_count": 24,
   "id": "078c2b14-6b5c-4e7e-816c-e20d93cdb3cd",
   "metadata": {},
   "outputs": [
    {
     "name": "stdout",
     "output_type": "stream",
     "text": [
      "<class 'pandas.core.frame.DataFrame'>\n",
      "Index: 13619 entries, 7 to 99528\n",
      "Data columns (total 15 columns):\n",
      " #   Column            Non-Null Count  Dtype  \n",
      "---  ------            --------------  -----  \n",
      " 0   source_id         13619 non-null  int64  \n",
      " 1   call_duration     13619 non-null  int64  \n",
      " 2   conversion        13619 non-null  float64\n",
      " 3   state             13619 non-null  int32  \n",
      " 4   connection_type   13619 non-null  int32  \n",
      " 5   browser           13619 non-null  int32  \n",
      " 6   browser_platform  13619 non-null  int32  \n",
      " 7   device            13619 non-null  int32  \n",
      " 8   age               13619 non-null  float64\n",
      " 9   gender            13619 non-null  int32  \n",
      " 10  household_income  13619 non-null  float64\n",
      " 11  household_size    13619 non-null  int64  \n",
      " 12  subsidy           13619 non-null  int32  \n",
      " 13  seller_id         13619 non-null  int64  \n",
      " 14  month             13619 non-null  int32  \n",
      "dtypes: float64(3), int32(8), int64(4)\n",
      "memory usage: 1.2 MB\n"
     ]
    }
   ],
   "source": [
    "cleaned_df.info()"
   ]
  },
  {
   "cell_type": "markdown",
   "id": "96bbe814-7217-4e89-8645-db3e292cc135",
   "metadata": {},
   "source": [
    "<hr style=\"border:3px solid Black\">"
   ]
  },
  {
   "cell_type": "code",
   "execution_count": 25,
   "id": "37cb7268-4425-4f7c-85f1-8cf26263913d",
   "metadata": {},
   "outputs": [
    {
     "name": "stdout",
     "output_type": "stream",
     "text": [
      "[[2142  156]\n",
      " [ 211  215]]\n",
      "accuracy score:  0.8652716593245228\n",
      "AUC score:  0.7184048590936392\n",
      "              precision    recall  f1-score   support\n",
      "\n",
      "         0.0       0.91      0.93      0.92      2298\n",
      "         1.0       0.58      0.50      0.54       426\n",
      "\n",
      "    accuracy                           0.87      2724\n",
      "   macro avg       0.74      0.72      0.73      2724\n",
      "weighted avg       0.86      0.87      0.86      2724\n",
      "\n"
     ]
    }
   ],
   "source": [
    "# features and target variables\n",
    "X = cleaned_df.drop(columns = 'conversion', axis=1)\n",
    "y = cleaned_df['conversion']\n",
    "\n",
    "X_train, X_test, y_train, y_test = train_test_split(X, y, test_size = 0.2, random_state=42)\n",
    "\n",
    "rf = RandomForestClassifier()\n",
    "rf.fit(X_train, y_train)\n",
    "\n",
    "y_pred = rf.predict(X_test)\n",
    "\n",
    "print(confusion_matrix(y_test, y_pred))\n",
    "print(\"accuracy score: \", accuracy_score(y_test, y_pred)) \n",
    "print(\"AUC score: \", roc_auc_score(y_test, y_pred))\n",
    "print(classification_report(y_test, y_pred))"
   ]
  },
  {
   "cell_type": "code",
   "execution_count": 26,
   "id": "e2274468-e90c-4bd2-bf5f-0717e9c3ef95",
   "metadata": {},
   "outputs": [
    {
     "name": "stdout",
     "output_type": "stream",
     "text": [
      "[0.87471317 0.86782928 0.87195961 0.86920606 0.87287747]\n",
      "average cv score:  0.871317117944011\n"
     ]
    }
   ],
   "source": [
    "from sklearn.model_selection import cross_val_score\n",
    "\n",
    "cv_score = cross_val_score(rf, X_train, y_train, cv=5, scoring='accuracy')\n",
    "print(cv_score)\n",
    "\n",
    "avg_cv_score = cv_score.mean()\n",
    "print(\"average cv score: \", avg_cv_score)"
   ]
  },
  {
   "cell_type": "code",
   "execution_count": null,
   "id": "3f6c3c22-b73a-4927-b38a-db68b86b0049",
   "metadata": {},
   "outputs": [],
   "source": []
  },
  {
   "cell_type": "code",
   "execution_count": 27,
   "id": "5ac1ede0-c4d5-4b18-997b-f57ab01c88c6",
   "metadata": {},
   "outputs": [],
   "source": [
    "from imblearn.over_sampling import SMOTE\n",
    "from imblearn.pipeline import Pipeline\n",
    "from imblearn.under_sampling import RandomUnderSampler"
   ]
  },
  {
   "cell_type": "code",
   "execution_count": 28,
   "id": "65576253-9563-4625-a8b6-a365cbfd8479",
   "metadata": {},
   "outputs": [
    {
     "name": "stdout",
     "output_type": "stream",
     "text": [
      "[[2042  256]\n",
      " [ 143  283]]\n",
      "accuracy score:  0.8535242290748899\n",
      "AUC score:  0.7764590151877321\n",
      "              precision    recall  f1-score   support\n",
      "\n",
      "         0.0       0.93      0.89      0.91      2298\n",
      "         1.0       0.53      0.66      0.59       426\n",
      "\n",
      "    accuracy                           0.85      2724\n",
      "   macro avg       0.73      0.78      0.75      2724\n",
      "weighted avg       0.87      0.85      0.86      2724\n",
      "\n"
     ]
    }
   ],
   "source": [
    "# features and target variables\n",
    "X = cleaned_df.drop(columns = 'conversion', axis=1)\n",
    "y = cleaned_df['conversion']\n",
    "\n",
    "X_train, X_test, y_train, y_test = train_test_split(X, y, test_size = 0.2, random_state=42)\n",
    "\n",
    "smote = SMOTE(random_state=42)\n",
    "\n",
    "X_train_resampled, y_train_resampled = smote.fit_resample(X_train, y_train)\n",
    "rf = RandomForestClassifier(random_state=42)\n",
    "\n",
    "# Train the model using the resampled training data\n",
    "rf.fit(X_train_resampled, y_train_resampled)\n",
    "\n",
    "y_pred = rf.predict(X_test)\n",
    "\n",
    "print(confusion_matrix(y_test, y_pred))\n",
    "print(\"accuracy score: \", accuracy_score(y_test, y_pred)) \n",
    "print(\"AUC score: \", roc_auc_score(y_test, y_pred))\n",
    "print(classification_report(y_test, y_pred))"
   ]
  },
  {
   "cell_type": "markdown",
   "id": "c684cf02-e6a7-4da5-bda7-098bc98856cb",
   "metadata": {},
   "source": [
    "It is clear that the imbalanced data we are working with pose a problem for our model. Before sampling, we can see in our confusion matrix that the number of false positive instances (type 1 error)  are very high. Our classifcation report shows the values for precision, recall, and f1-score for predicting a call to convert to be relatively low. After applying SMOTE (Synthetic Minority Over-sampling Technique) to address the class imbalance, the model improved but just slightly.\n",
    "\n",
    "The accuracy score in this case is not reliable as it does not reflect how the model performs when working with imbalanced data sets. We see that the accuracy score after sampling actually dropped even though the confusion matrix and classification score tells better results from the its previous."
   ]
  },
  {
   "cell_type": "code",
   "execution_count": null,
   "id": "f3ff0d5e-8407-40ad-aa2d-843d34d3850b",
   "metadata": {},
   "outputs": [],
   "source": []
  },
  {
   "cell_type": "markdown",
   "id": "0b589eb7-b6be-4848-b949-b209ee3de72b",
   "metadata": {},
   "source": [
    "Let's try applying SMOTE and undersampling approach to see if the results improve:"
   ]
  },
  {
   "cell_type": "code",
   "execution_count": 29,
   "id": "c73f6630-427e-4c0d-b74e-7f51d671207b",
   "metadata": {},
   "outputs": [
    {
     "name": "stdout",
     "output_type": "stream",
     "text": [
      "[[2026  272]\n",
      " [ 132  294]]\n",
      "accuracy score:  0.8516886930983847\n"
     ]
    }
   ],
   "source": [
    "# features and target variables\n",
    "X = cleaned_df.drop(columns = 'conversion', axis=1)\n",
    "y = cleaned_df['conversion']\n",
    "\n",
    "X_train, X_test, y_train, y_test = train_test_split(X, y, test_size = 0.2, random_state=42)\n",
    "\n",
    "# Initialize SMOTE and Random UnderSampler\n",
    "smote = SMOTE(random_state=42)\n",
    "under_sampler = RandomUnderSampler(random_state=42)\n",
    "\n",
    "# Create a pipeline with SMOTE and Random UnderSampler\n",
    "pipeline = Pipeline([\n",
    "    ('smote', smote),\n",
    "    ('under_sampler', under_sampler)\n",
    "])\n",
    "\n",
    "# Apply the pipeline to the training data\n",
    "X_train_resampled, y_train_resampled = pipeline.fit_resample(X_train, y_train)\n",
    "\n",
    "# Train the Random Forest classifier on the resampled data\n",
    "rf = RandomForestClassifier(random_state=42)\n",
    "rf.fit(X_train_resampled, y_train_resampled)\n",
    "\n",
    "y_pred = rf.predict(X_test)\n",
    "\n",
    "print(confusion_matrix(y_test, y_pred))\n",
    "print(\"accuracy score: \", accuracy_score(y_test, y_pred)) "
   ]
  },
  {
   "cell_type": "code",
   "execution_count": 30,
   "id": "863387d3-2499-4ddf-b089-72cf2bfc4cc0",
   "metadata": {},
   "outputs": [
    {
     "name": "stdout",
     "output_type": "stream",
     "text": [
      "              precision    recall  f1-score   support\n",
      "\n",
      "         0.0       0.94      0.88      0.91      2298\n",
      "         1.0       0.52      0.69      0.59       426\n",
      "\n",
      "    accuracy                           0.85      2724\n",
      "   macro avg       0.73      0.79      0.75      2724\n",
      "weighted avg       0.87      0.85      0.86      2724\n",
      "\n"
     ]
    }
   ],
   "source": [
    "print(classification_report(y_test, y_pred))"
   ]
  },
  {
   "cell_type": "markdown",
   "id": "91161959-ecd9-45ce-94e7-81492b021982",
   "metadata": {},
   "source": [
    "+ As a result from the confusion matrix and classification report, it does not seem to make much of a difference.."
   ]
  },
  {
   "cell_type": "markdown",
   "id": "304edfd4-bd1f-42c6-a900-5154c61d8044",
   "metadata": {},
   "source": [
    "<hr style=\"border:3px solid Black\">"
   ]
  },
  {
   "cell_type": "markdown",
   "id": "23743d7e-8f9c-4af6-b4e4-5e943ae82b6d",
   "metadata": {},
   "source": [
    "I have chosen to utilize oversampling instead of undersampling because I felt that the data set we are working with would not be considered a large data set. Because of this, reducing the data in the majority class would also reduce valuable information.\n",
    "\n"
   ]
  },
  {
   "cell_type": "code",
   "execution_count": 31,
   "id": "ffdd0276-0c6a-44f1-b95a-c250c33e9bb2",
   "metadata": {},
   "outputs": [
    {
     "data": {
      "text/plain": [
       "conversion\n",
       "0.0    11503\n",
       "1.0     2116\n",
       "Name: count, dtype: int64"
      ]
     },
     "execution_count": 31,
     "metadata": {},
     "output_type": "execute_result"
    }
   ],
   "source": [
    "cleaned_df['conversion'].value_counts()"
   ]
  },
  {
   "cell_type": "code",
   "execution_count": 32,
   "id": "7cd2edb8-0fc3-425d-ac8e-c28e242cc312",
   "metadata": {},
   "outputs": [],
   "source": [
    "# features and target variables\n",
    "X = cleaned_df.drop(columns = 'conversion', axis=1)\n",
    "y = cleaned_df['conversion']\n",
    "\n",
    "#X_train, X_test, y_train, y_test = train_test_split(X, y, test_size = 0.2, random_state=42)"
   ]
  },
  {
   "cell_type": "code",
   "execution_count": 33,
   "id": "e27401ea-1a39-4823-8121-061ee79bd096",
   "metadata": {},
   "outputs": [
    {
     "name": "stdout",
     "output_type": "stream",
     "text": [
      "Counter({0.0: 11503, 1.0: 2116})\n",
      "Counter({0.0: 11503, 1.0: 11503})\n"
     ]
    }
   ],
   "source": [
    "from collections import Counter\n",
    "from imblearn.over_sampling import RandomOverSampler\n",
    "print(Counter(y))\n",
    "rus = RandomOverSampler(random_state=42)\n",
    "X_over, y_over = rus.fit_resample(X,y)\n",
    "print(Counter(y_over))"
   ]
  },
  {
   "cell_type": "code",
   "execution_count": 34,
   "id": "cc750ed2-aa7c-4c5b-8eab-919d3431e0fd",
   "metadata": {},
   "outputs": [
    {
     "name": "stdout",
     "output_type": "stream",
     "text": [
      "(18404, 14)\n",
      "(18404,)\n",
      "(4602, 14)\n",
      "(4602,)\n"
     ]
    }
   ],
   "source": [
    "from sklearn.model_selection import train_test_split\n",
    "\n",
    "X_train, X_test, y_train, y_test = train_test_split(X_over, y_over, test_size = 0.2, random_state=42)\n",
    "\n",
    "print(X_train.shape)\n",
    "print(y_train.shape)\n",
    "print(X_test.shape)\n",
    "print(y_test.shape)"
   ]
  },
  {
   "cell_type": "code",
   "execution_count": 35,
   "id": "77979a49-28c1-468a-ad1a-23c50215a83c",
   "metadata": {},
   "outputs": [
    {
     "name": "stdout",
     "output_type": "stream",
     "text": [
      "[[2082  237]\n",
      " [   0 2283]]\n",
      "accuracy score:  0.9485006518904824\n",
      "AUC score:  0.9489003880983182\n",
      "              precision    recall  f1-score   support\n",
      "\n",
      "         0.0       1.00      0.90      0.95      2319\n",
      "         1.0       0.91      1.00      0.95      2283\n",
      "\n",
      "    accuracy                           0.95      4602\n",
      "   macro avg       0.95      0.95      0.95      4602\n",
      "weighted avg       0.95      0.95      0.95      4602\n",
      "\n"
     ]
    }
   ],
   "source": [
    "rf = RandomForestClassifier(random_state=42)\n",
    "\n",
    "# Train the model using the resampled training data\n",
    "rf.fit(X_train, y_train)\n",
    "\n",
    "y_pred = rf.predict(X_test)\n",
    "\n",
    "print(confusion_matrix(y_test, y_pred))\n",
    "print(\"accuracy score: \", accuracy_score(y_test, y_pred)) \n",
    "print(\"AUC score: \", roc_auc_score(y_test, y_pred))\n",
    "print(classification_report(y_test, y_pred))"
   ]
  },
  {
   "cell_type": "markdown",
   "id": "72fecfa4-2077-4f85-9480-47f260c828cf",
   "metadata": {},
   "source": [
    "Unlike SMOTE, the RandomOverSampler method creates copies of the existing sample rather than creating synthetic samples. After implementing  RandomOverSampler we see that the results are much better. Some things to take note of is that the RandomOverSampler approach is more vulnerable to overfitting the model. We will go with this for simplicity of the project. "
   ]
  },
  {
   "cell_type": "code",
   "execution_count": 36,
   "id": "ee8371b5-e5d0-4f79-8c43-fc2af88a5aed",
   "metadata": {},
   "outputs": [
    {
     "name": "stdout",
     "output_type": "stream",
     "text": [
      "Training Accuracy: 1.00\n",
      "Test Accuracy: 0.95\n"
     ]
    }
   ],
   "source": [
    "# Predict and evaluate\n",
    "train_predictions = rf.predict(X_train)\n",
    "test_predictions = rf.predict(X_test)\n",
    "\n",
    "train_accuracy = accuracy_score(y_train, train_predictions)\n",
    "test_accuracy = accuracy_score(y_test, test_predictions)\n",
    "\n",
    "print(f'Training Accuracy: {train_accuracy:.2f}')\n",
    "print(f'Test Accuracy: {test_accuracy:.2f}')"
   ]
  },
  {
   "cell_type": "code",
   "execution_count": null,
   "id": "532647ac-33a4-4af8-989f-b71b5f80116e",
   "metadata": {},
   "outputs": [],
   "source": []
  },
  {
   "cell_type": "markdown",
   "id": "76190e02-345a-4a5a-9e7c-b5abc4bc3350",
   "metadata": {},
   "source": [
    "### **Using the model to estimate the likelihood of conversion for every call in the original data set**"
   ]
  },
  {
   "cell_type": "code",
   "execution_count": 37,
   "id": "b3017cc0-a1ed-4484-8361-d225ee038dfc",
   "metadata": {},
   "outputs": [
    {
     "data": {
      "text/html": [
       "<div>\n",
       "<style scoped>\n",
       "    .dataframe tbody tr th:only-of-type {\n",
       "        vertical-align: middle;\n",
       "    }\n",
       "\n",
       "    .dataframe tbody tr th {\n",
       "        vertical-align: top;\n",
       "    }\n",
       "\n",
       "    .dataframe thead th {\n",
       "        text-align: right;\n",
       "    }\n",
       "</style>\n",
       "<table border=\"1\" class=\"dataframe\">\n",
       "  <thead>\n",
       "    <tr style=\"text-align: right;\">\n",
       "      <th></th>\n",
       "      <th>call_id</th>\n",
       "      <th>phone_num_hash</th>\n",
       "      <th>buyer_id</th>\n",
       "      <th>source_id</th>\n",
       "      <th>time</th>\n",
       "      <th>call_duration</th>\n",
       "      <th>conversion</th>\n",
       "      <th>state</th>\n",
       "      <th>currently_insured</th>\n",
       "      <th>connection_type</th>\n",
       "      <th>...</th>\n",
       "      <th>household_income</th>\n",
       "      <th>married</th>\n",
       "      <th>household_size</th>\n",
       "      <th>subsidy</th>\n",
       "      <th>weight</th>\n",
       "      <th>seller_id</th>\n",
       "      <th>seller_type</th>\n",
       "      <th>month</th>\n",
       "      <th>conversion_pred</th>\n",
       "      <th>conversion_proba</th>\n",
       "    </tr>\n",
       "  </thead>\n",
       "  <tbody>\n",
       "    <tr>\n",
       "      <th>0</th>\n",
       "      <td>CA25123ac8ae1550d20702684e9b383a9d</td>\n",
       "      <td>1E203B4634DCA46E4D4045C9CCAB0C14177B510A19AB14...</td>\n",
       "      <td>34844.0</td>\n",
       "      <td>3330</td>\n",
       "      <td>2023-10-01 00:18:54</td>\n",
       "      <td>145</td>\n",
       "      <td>NaN</td>\n",
       "      <td>PA</td>\n",
       "      <td>NaN</td>\n",
       "      <td>broadband</td>\n",
       "      <td>...</td>\n",
       "      <td>23500.0</td>\n",
       "      <td>NaN</td>\n",
       "      <td>1</td>\n",
       "      <td>yes</td>\n",
       "      <td>NaN</td>\n",
       "      <td>507</td>\n",
       "      <td>owned_and_operated</td>\n",
       "      <td>10</td>\n",
       "      <td>0.0</td>\n",
       "      <td>0.00</td>\n",
       "    </tr>\n",
       "    <tr>\n",
       "      <th>1</th>\n",
       "      <td>CA0bf360c2e450496ab7f9827ca53c2782</td>\n",
       "      <td>C0A651D4E963BF925E4B641C456C219944346F7D0C2C1B...</td>\n",
       "      <td>66836.0</td>\n",
       "      <td>3330</td>\n",
       "      <td>2023-10-01 12:19:35</td>\n",
       "      <td>1705</td>\n",
       "      <td>NaN</td>\n",
       "      <td>KY</td>\n",
       "      <td>NaN</td>\n",
       "      <td>broadband</td>\n",
       "      <td>...</td>\n",
       "      <td>40000.0</td>\n",
       "      <td>NaN</td>\n",
       "      <td>1</td>\n",
       "      <td>yes</td>\n",
       "      <td>NaN</td>\n",
       "      <td>507</td>\n",
       "      <td>owned_and_operated</td>\n",
       "      <td>10</td>\n",
       "      <td>1.0</td>\n",
       "      <td>0.73</td>\n",
       "    </tr>\n",
       "    <tr>\n",
       "      <th>2</th>\n",
       "      <td>CA2c303f8186fcf2783398916949fbdfbc</td>\n",
       "      <td>6FF94E1E927AB3269BA8ACB0DC13FDB4CD5E5D6C26563C...</td>\n",
       "      <td>1987.0</td>\n",
       "      <td>3330</td>\n",
       "      <td>2023-10-01 18:41:09</td>\n",
       "      <td>1</td>\n",
       "      <td>NaN</td>\n",
       "      <td>LA</td>\n",
       "      <td>NaN</td>\n",
       "      <td>cellular</td>\n",
       "      <td>...</td>\n",
       "      <td>40000.0</td>\n",
       "      <td>NaN</td>\n",
       "      <td>2</td>\n",
       "      <td>yes</td>\n",
       "      <td>NaN</td>\n",
       "      <td>507</td>\n",
       "      <td>owned_and_operated</td>\n",
       "      <td>10</td>\n",
       "      <td>0.0</td>\n",
       "      <td>0.02</td>\n",
       "    </tr>\n",
       "    <tr>\n",
       "      <th>3</th>\n",
       "      <td>CA694b6e2c7ed47d0ccb070e63339b3703</td>\n",
       "      <td>B3B0CE54CBB8C872CFEFF86EC3767A383200537A5C0094...</td>\n",
       "      <td>2486.0</td>\n",
       "      <td>3330</td>\n",
       "      <td>2023-10-01 22:34:43</td>\n",
       "      <td>156</td>\n",
       "      <td>NaN</td>\n",
       "      <td>AZ</td>\n",
       "      <td>NaN</td>\n",
       "      <td>cellular</td>\n",
       "      <td>...</td>\n",
       "      <td>100000.0</td>\n",
       "      <td>NaN</td>\n",
       "      <td>4</td>\n",
       "      <td>yes</td>\n",
       "      <td>NaN</td>\n",
       "      <td>507</td>\n",
       "      <td>owned_and_operated</td>\n",
       "      <td>10</td>\n",
       "      <td>0.0</td>\n",
       "      <td>0.03</td>\n",
       "    </tr>\n",
       "    <tr>\n",
       "      <th>4</th>\n",
       "      <td>CAe560088516553c703a6e2426a3295994</td>\n",
       "      <td>EB098A09FA9EF17E3D34B97168EBF924BF253A81DD32A2...</td>\n",
       "      <td>1728.0</td>\n",
       "      <td>3330</td>\n",
       "      <td>2023-10-02 06:04:34</td>\n",
       "      <td>159</td>\n",
       "      <td>NaN</td>\n",
       "      <td>GA</td>\n",
       "      <td>NaN</td>\n",
       "      <td>broadband</td>\n",
       "      <td>...</td>\n",
       "      <td>9500.0</td>\n",
       "      <td>NaN</td>\n",
       "      <td>1</td>\n",
       "      <td>medicaid</td>\n",
       "      <td>NaN</td>\n",
       "      <td>507</td>\n",
       "      <td>owned_and_operated</td>\n",
       "      <td>10</td>\n",
       "      <td>0.0</td>\n",
       "      <td>0.00</td>\n",
       "    </tr>\n",
       "  </tbody>\n",
       "</table>\n",
       "<p>5 rows × 30 columns</p>\n",
       "</div>"
      ],
      "text/plain": [
       "                              call_id  \\\n",
       "0  CA25123ac8ae1550d20702684e9b383a9d   \n",
       "1  CA0bf360c2e450496ab7f9827ca53c2782   \n",
       "2  CA2c303f8186fcf2783398916949fbdfbc   \n",
       "3  CA694b6e2c7ed47d0ccb070e63339b3703   \n",
       "4  CAe560088516553c703a6e2426a3295994   \n",
       "\n",
       "                                      phone_num_hash  buyer_id  source_id  \\\n",
       "0  1E203B4634DCA46E4D4045C9CCAB0C14177B510A19AB14...   34844.0       3330   \n",
       "1  C0A651D4E963BF925E4B641C456C219944346F7D0C2C1B...   66836.0       3330   \n",
       "2  6FF94E1E927AB3269BA8ACB0DC13FDB4CD5E5D6C26563C...    1987.0       3330   \n",
       "3  B3B0CE54CBB8C872CFEFF86EC3767A383200537A5C0094...    2486.0       3330   \n",
       "4  EB098A09FA9EF17E3D34B97168EBF924BF253A81DD32A2...    1728.0       3330   \n",
       "\n",
       "                 time  call_duration  conversion state  currently_insured  \\\n",
       "0 2023-10-01 00:18:54            145         NaN    PA                NaN   \n",
       "1 2023-10-01 12:19:35           1705         NaN    KY                NaN   \n",
       "2 2023-10-01 18:41:09              1         NaN    LA                NaN   \n",
       "3 2023-10-01 22:34:43            156         NaN    AZ                NaN   \n",
       "4 2023-10-02 06:04:34            159         NaN    GA                NaN   \n",
       "\n",
       "  connection_type  ... household_income married household_size   subsidy  \\\n",
       "0       broadband  ...          23500.0     NaN              1       yes   \n",
       "1       broadband  ...          40000.0     NaN              1       yes   \n",
       "2        cellular  ...          40000.0     NaN              2       yes   \n",
       "3        cellular  ...         100000.0     NaN              4       yes   \n",
       "4       broadband  ...           9500.0     NaN              1  medicaid   \n",
       "\n",
       "   weight seller_id         seller_type month conversion_pred  \\\n",
       "0     NaN       507  owned_and_operated    10             0.0   \n",
       "1     NaN       507  owned_and_operated    10             1.0   \n",
       "2     NaN       507  owned_and_operated    10             0.0   \n",
       "3     NaN       507  owned_and_operated    10             0.0   \n",
       "4     NaN       507  owned_and_operated    10             0.0   \n",
       "\n",
       "   conversion_proba  \n",
       "0              0.00  \n",
       "1              0.73  \n",
       "2              0.02  \n",
       "3              0.03  \n",
       "4              0.00  \n",
       "\n",
       "[5 rows x 30 columns]"
      ]
     },
     "execution_count": 37,
     "metadata": {},
     "output_type": "execute_result"
    }
   ],
   "source": [
    "non_null_conversions_df = cleaned_df.drop(columns= 'conversion') # 14 columns after this\n",
    "conversion_pred = rf.predict(non_null_conversions_df)\n",
    "conversion_proba = rf.predict_proba(non_null_conversions_df)[:, 1]\n",
    "\n",
    "non_null_conversions_df['conversion_pred'] = conversion_pred\n",
    "non_null_conversions_df['conversion_proba'] = conversion_proba\n",
    "\n",
    "\n",
    "null_cleaned_df = sample_cleaned[sample_cleaned['conversion'].isnull()] # We take the preprocessed data for the remaining null conversions\n",
    "null_conversions_df = null_cleaned_df.drop(columns= ['conversion', 'buyer_id'])\n",
    "null_conversion_pred = rf.predict(null_conversions_df)\n",
    "null_conversion_proba = rf.predict_proba(null_conversions_df)[:, 1]\n",
    "\n",
    "null_conversions_df['conversion_pred'] = null_conversion_pred\n",
    "null_conversions_df['conversion_proba'] = null_conversion_proba\n",
    "\n",
    "# Concatenate the two data frames to show the conversion_pred and conversion_proba on all calls recorded in the data set.\n",
    "final_sample = pd.concat([null_conversions_df, non_null_conversions_df])\n",
    "\n",
    "# Finally we pull the conversion_pred and conversion_proba columns into the original data set.\n",
    "final_df = pd.concat([sample, final_sample.iloc[:, -2:]], axis=1)\n",
    "final_df.head()"
   ]
  },
  {
   "cell_type": "code",
   "execution_count": 38,
   "id": "0eb28caa-61c4-4ed0-854e-a58f09780f2a",
   "metadata": {},
   "outputs": [
    {
     "name": "stdout",
     "output_type": "stream",
     "text": [
      "<class 'pandas.core.frame.DataFrame'>\n",
      "RangeIndex: 99546 entries, 0 to 99545\n",
      "Data columns (total 30 columns):\n",
      " #   Column             Non-Null Count  Dtype         \n",
      "---  ------             --------------  -----         \n",
      " 0   call_id            99546 non-null  object        \n",
      " 1   phone_num_hash     99546 non-null  object        \n",
      " 2   buyer_id           99546 non-null  float64       \n",
      " 3   source_id          99546 non-null  int64         \n",
      " 4   time               99546 non-null  datetime64[ns]\n",
      " 5   call_duration      99546 non-null  int64         \n",
      " 6   conversion         13619 non-null  float64       \n",
      " 7   state              99546 non-null  object        \n",
      " 8   currently_insured  816 non-null    float64       \n",
      " 9   connection_type    99546 non-null  object        \n",
      " 10  browser            99515 non-null  object        \n",
      " 11  browser_platform   99208 non-null  object        \n",
      " 12  device             99546 non-null  object        \n",
      " 13  age                98733 non-null  float64       \n",
      " 14  bmi                314 non-null    float64       \n",
      " 15  coverage_type      7 non-null      object        \n",
      " 16  credit_rating      0 non-null      float64       \n",
      " 17  current_company    785 non-null    object        \n",
      " 18  gender             98720 non-null  object        \n",
      " 19  height             314 non-null    float64       \n",
      " 20  household_income   98969 non-null  float64       \n",
      " 21  married            0 non-null      float64       \n",
      " 22  household_size     99546 non-null  int64         \n",
      " 23  subsidy            98765 non-null  object        \n",
      " 24  weight             314 non-null    float64       \n",
      " 25  seller_id          99546 non-null  int64         \n",
      " 26  seller_type        99546 non-null  object        \n",
      " 27  month              99546 non-null  int32         \n",
      " 28  conversion_pred    99546 non-null  float64       \n",
      " 29  conversion_proba   99546 non-null  float64       \n",
      "dtypes: datetime64[ns](1), float64(12), int32(1), int64(4), object(12)\n",
      "memory usage: 22.4+ MB\n"
     ]
    }
   ],
   "source": [
    "final_df.info()"
   ]
  },
  {
   "cell_type": "markdown",
   "id": "198fd329-6250-4b6a-a128-d2334ed56ebf",
   "metadata": {},
   "source": [
    "<hr style=\"border:5px solid Black\">"
   ]
  },
  {
   "cell_type": "markdown",
   "id": "77dd3f22-9229-4b23-bb99-1a3f8ef25fb3",
   "metadata": {},
   "source": [
    "<h2 style=\"color: blue;\">Exploratory Data Analysis (Part Two)</h2>"
   ]
  },
  {
   "cell_type": "markdown",
   "id": "8689c25d-b188-41fb-99b9-9b6acbc4852a",
   "metadata": {},
   "source": [
    "<hr style=\"border:3px solid Black\">"
   ]
  },
  {
   "cell_type": "markdown",
   "id": "0249328b-358c-42c5-81f4-87e9e31c4def",
   "metadata": {},
   "source": [
    "### **Task 2: Use the estimate from 1 to explain which types of calls are more likely to convert**"
   ]
  },
  {
   "cell_type": "markdown",
   "id": "f41850b7-4aff-4288-b86c-7bc4b764749d",
   "metadata": {},
   "source": [
    "**Reminder:** \n",
    "+ Calls vary in \"quality\" (likelihood of purchasing a policy)\n",
    "+ More likely to convert (purchase) = More valuable "
   ]
  },
  {
   "cell_type": "markdown",
   "id": "641fb506-4052-46e1-aa45-846910e4c0bc",
   "metadata": {},
   "source": [
    "#### We can see that the longer the call duration the more likely the calls converts."
   ]
  },
  {
   "cell_type": "code",
   "execution_count": 39,
   "id": "3a5448db-34af-4355-aa58-bf42e85906f9",
   "metadata": {},
   "outputs": [
    {
     "data": {
      "text/html": [
       "<div>\n",
       "<style scoped>\n",
       "    .dataframe tbody tr th:only-of-type {\n",
       "        vertical-align: middle;\n",
       "    }\n",
       "\n",
       "    .dataframe tbody tr th {\n",
       "        vertical-align: top;\n",
       "    }\n",
       "\n",
       "    .dataframe thead th {\n",
       "        text-align: right;\n",
       "    }\n",
       "</style>\n",
       "<table border=\"1\" class=\"dataframe\">\n",
       "  <thead>\n",
       "    <tr style=\"text-align: right;\">\n",
       "      <th></th>\n",
       "      <th>conversion_pred</th>\n",
       "      <th>average_call_time</th>\n",
       "    </tr>\n",
       "  </thead>\n",
       "  <tbody>\n",
       "    <tr>\n",
       "      <th>0</th>\n",
       "      <td>Did not Convert</td>\n",
       "      <td>386.992828</td>\n",
       "    </tr>\n",
       "    <tr>\n",
       "      <th>1</th>\n",
       "      <td>Converted</td>\n",
       "      <td>2029.501553</td>\n",
       "    </tr>\n",
       "  </tbody>\n",
       "</table>\n",
       "</div>"
      ],
      "text/plain": [
       "   conversion_pred  average_call_time\n",
       "0  Did not Convert         386.992828\n",
       "1        Converted        2029.501553"
      ]
     },
     "execution_count": 39,
     "metadata": {},
     "output_type": "execute_result"
    }
   ],
   "source": [
    "duration_conversion = final_sample.groupby('conversion_pred')['call_duration'].mean().reset_index().rename(\n",
    "    columns={'call_duration': 'average_call_time'})\n",
    "duration_conversion['conversion_pred'] = duration_conversion['conversion_pred'].apply(lambda x: 'Did not Convert' if x==0 else 'Converted')\n",
    "duration_conversion"
   ]
  },
  {
   "cell_type": "code",
   "execution_count": 40,
   "id": "0b05c154-f75a-4797-b36d-f6de09047c5b",
   "metadata": {},
   "outputs": [
    {
     "data": {
      "image/png": "[encoded data removed]",
      "text/plain": [
       "<Figure size 800x500 with 1 Axes>"
      ]
     },
     "metadata": {},
     "output_type": "display_data"
    }
   ],
   "source": [
    "plt.figure(figsize=(8, 5))\n",
    "x =sns.barplot(x='conversion_pred', y='average_call_time', data=duration_conversion, palette='husl')\n",
    "plt.title('Conversion by Average Call Time (Seconds) ')\n",
    "plt.xlabel('Conversion')\n",
    "plt.ylabel('Average Call Time (Seconds)')\n",
    "plt.bar_label(x.containers[0], fmt='%.2f', fontsize=10)\n",
    "plt.show()"
   ]
  },
  {
   "cell_type": "code",
   "execution_count": null,
   "id": "243182fe-7e8c-4749-87b8-96e8e267c589",
   "metadata": {},
   "outputs": [],
   "source": []
  },
  {
   "cell_type": "markdown",
   "id": "423a1ad8-baf0-4700-b38d-66377156f54f",
   "metadata": {},
   "source": [
    "### Explore The Conversion by States"
   ]
  },
  {
   "cell_type": "code",
   "execution_count": 41,
   "id": "0ce3dfd5-9b35-4ab0-852d-c44794551b36",
   "metadata": {
    "scrolled": true
   },
   "outputs": [],
   "source": [
    "state_conversion = final_df.groupby('state').agg(total_converted=('conversion_pred', 'sum'),\n",
    "                              total_action=('conversion_pred', 'count')\n",
    "                            ).reset_index()\n",
    "state_conversion['conversion_rate'] = state_conversion['total_converted']/ state_conversion['total_action'] * 100"
   ]
  },
  {
   "cell_type": "code",
   "execution_count": 42,
   "id": "21a97f02-1047-4e7c-8ec2-ff9a3b5fec18",
   "metadata": {},
   "outputs": [
    {
     "data": {
      "image/png": "[encoded data removed]",
      "text/plain": [
       "<Figure size 1600x800 with 2 Axes>"
      ]
     },
     "metadata": {},
     "output_type": "display_data"
    }
   ],
   "source": [
    "converted_sorted = state_conversion.sort_values(by='total_converted', ascending=False)\n",
    "conversion_rate_sorted = state_conversion.sort_values(by='conversion_rate', ascending=False)\n",
    "\n",
    "# Create a figure with two subplots\n",
    "fig, axes = plt.subplots(1, 2, figsize=(16, 8))\n",
    "\n",
    "# Plot the first bar plot\n",
    "sns.barplot(x='state', y='total_converted', data=converted_sorted[:5], ax=axes[0], palette='viridis')\n",
    "axes[0].set_title('Top 5 States with Most Conversions', fontsize=20)\n",
    "axes[0].set_xlabel('State', fontsize = 18)\n",
    "axes[0].set_ylabel('Total Conversion', fontsize = 18)\n",
    "axes[0].bar_label(axes[0].containers[0], fontsize=12)\n",
    "axes[0].tick_params(labelsize=12)\n",
    "\n",
    "# Plot the second bar plot\n",
    "sns.barplot(x='state', y='conversion_rate', data=conversion_rate_sorted[:5], ax=axes[1], palette='viridis')\n",
    "axes[1].set_title('Top 5 States with Highest Conversion Rate', fontsize=20)\n",
    "axes[1].set_xlabel('State', fontsize = 18)\n",
    "axes[1].set_ylabel('Conversion Rate', fontsize = 18)\n",
    "axes[1].bar_label(axes[1].containers[0], fmt='%.2f%%', fontsize=12)\n",
    "axes[1].tick_params(labelsize=12)\n",
    "\n",
    "# Adjust layout to prevent overlap\n",
    "plt.tight_layout()\n",
    "plt.show()"
   ]
  },
  {
   "cell_type": "markdown",
   "id": "b252f244-5f1f-44c2-b675-09efd0c0afc4",
   "metadata": {},
   "source": [
    "#### **Insights:**"
   ]
  },
  {
   "cell_type": "markdown",
   "id": "de61b836-3c23-43ae-bca1-34abb5bae27c",
   "metadata": {},
   "source": [
    "+ It is clear that the bigger states are more likely to have converted in numbers due to its higher volume of calls. This makes sense as these states are highly populated.\n",
    "+ We notice that CO (Colorado) ranks 2nd in conversion rate at about 24% while also being 4th in most conversions. In fact, they are 7th in total action (total number of conversion data recorded in the data set).\n",
    "  + total_action = total calls recorded in the data set"
   ]
  },
  {
   "cell_type": "code",
   "execution_count": 43,
   "id": "5bce1b3e-37d0-4910-9d96-d46ca7fec08f",
   "metadata": {},
   "outputs": [
    {
     "data": {
      "text/html": [
       "<div>\n",
       "<style scoped>\n",
       "    .dataframe tbody tr th:only-of-type {\n",
       "        vertical-align: middle;\n",
       "    }\n",
       "\n",
       "    .dataframe tbody tr th {\n",
       "        vertical-align: top;\n",
       "    }\n",
       "\n",
       "    .dataframe thead th {\n",
       "        text-align: right;\n",
       "    }\n",
       "</style>\n",
       "<table border=\"1\" class=\"dataframe\">\n",
       "  <thead>\n",
       "    <tr style=\"text-align: right;\">\n",
       "      <th></th>\n",
       "      <th>state</th>\n",
       "      <th>total_converted</th>\n",
       "      <th>total_action</th>\n",
       "      <th>conversion_rate</th>\n",
       "    </tr>\n",
       "  </thead>\n",
       "  <tbody>\n",
       "    <tr>\n",
       "      <th>34</th>\n",
       "      <td>NY</td>\n",
       "      <td>1881.0</td>\n",
       "      <td>10489</td>\n",
       "      <td>17.933073</td>\n",
       "    </tr>\n",
       "    <tr>\n",
       "      <th>4</th>\n",
       "      <td>CA</td>\n",
       "      <td>1428.0</td>\n",
       "      <td>10093</td>\n",
       "      <td>14.148420</td>\n",
       "    </tr>\n",
       "    <tr>\n",
       "      <th>43</th>\n",
       "      <td>TX</td>\n",
       "      <td>1154.0</td>\n",
       "      <td>6720</td>\n",
       "      <td>17.172619</td>\n",
       "    </tr>\n",
       "    <tr>\n",
       "      <th>9</th>\n",
       "      <td>FL</td>\n",
       "      <td>1041.0</td>\n",
       "      <td>5631</td>\n",
       "      <td>18.486947</td>\n",
       "    </tr>\n",
       "    <tr>\n",
       "      <th>19</th>\n",
       "      <td>MA</td>\n",
       "      <td>1035.0</td>\n",
       "      <td>5176</td>\n",
       "      <td>19.996136</td>\n",
       "    </tr>\n",
       "    <tr>\n",
       "      <th>38</th>\n",
       "      <td>PA</td>\n",
       "      <td>905.0</td>\n",
       "      <td>4833</td>\n",
       "      <td>18.725429</td>\n",
       "    </tr>\n",
       "    <tr>\n",
       "      <th>5</th>\n",
       "      <td>CO</td>\n",
       "      <td>1044.0</td>\n",
       "      <td>4414</td>\n",
       "      <td>23.652016</td>\n",
       "    </tr>\n",
       "  </tbody>\n",
       "</table>\n",
       "</div>"
      ],
      "text/plain": [
       "   state  total_converted  total_action  conversion_rate\n",
       "34    NY           1881.0         10489        17.933073\n",
       "4     CA           1428.0         10093        14.148420\n",
       "43    TX           1154.0          6720        17.172619\n",
       "9     FL           1041.0          5631        18.486947\n",
       "19    MA           1035.0          5176        19.996136\n",
       "38    PA            905.0          4833        18.725429\n",
       "5     CO           1044.0          4414        23.652016"
      ]
     },
     "execution_count": 43,
     "metadata": {},
     "output_type": "execute_result"
    }
   ],
   "source": [
    "state_conversion.sort_values(by='total_action', ascending=False)[:7]"
   ]
  },
  {
   "cell_type": "code",
   "execution_count": null,
   "id": "be9917e3-0f9f-468d-b44c-def5917aa15f",
   "metadata": {},
   "outputs": [],
   "source": []
  },
  {
   "cell_type": "markdown",
   "id": "70783d02-948f-4d12-b7ae-11f322b93857",
   "metadata": {},
   "source": [
    "### **Exploring The Age Range**"
   ]
  },
  {
   "cell_type": "code",
   "execution_count": 44,
   "id": "6039af53-ef9b-4d39-bc80-2c7601266ac3",
   "metadata": {},
   "outputs": [
    {
     "name": "stderr",
     "output_type": "stream",
     "text": [
      "C:\\Users\\Yosua\\AppData\\Local\\Temp\\ipykernel_33720\\1182584315.py:6: FutureWarning: The default of observed=False is deprecated and will be changed to True in a future version of pandas. Pass observed=False to retain current behavior or observed=True to adopt the future default and silence this warning.\n",
      "  age_conversion = final_df.groupby('age_range').agg(conversion_probabiity=('conversion_proba', 'mean'),\n"
     ]
    },
    {
     "data": {
      "text/html": [
       "<div>\n",
       "<style scoped>\n",
       "    .dataframe tbody tr th:only-of-type {\n",
       "        vertical-align: middle;\n",
       "    }\n",
       "\n",
       "    .dataframe tbody tr th {\n",
       "        vertical-align: top;\n",
       "    }\n",
       "\n",
       "    .dataframe thead th {\n",
       "        text-align: right;\n",
       "    }\n",
       "</style>\n",
       "<table border=\"1\" class=\"dataframe\">\n",
       "  <thead>\n",
       "    <tr style=\"text-align: right;\">\n",
       "      <th></th>\n",
       "      <th>age_range</th>\n",
       "      <th>conversion_probabiity</th>\n",
       "      <th>total_converted</th>\n",
       "      <th>total_actions</th>\n",
       "      <th>conversion_rate%</th>\n",
       "    </tr>\n",
       "  </thead>\n",
       "  <tbody>\n",
       "    <tr>\n",
       "      <th>0</th>\n",
       "      <td>Before 20s</td>\n",
       "      <td>0.107823</td>\n",
       "      <td>331.0</td>\n",
       "      <td>4621</td>\n",
       "      <td>0.071630</td>\n",
       "    </tr>\n",
       "    <tr>\n",
       "      <th>1</th>\n",
       "      <td>20s</td>\n",
       "      <td>0.171757</td>\n",
       "      <td>3973.0</td>\n",
       "      <td>25276</td>\n",
       "      <td>0.157185</td>\n",
       "    </tr>\n",
       "    <tr>\n",
       "      <th>2</th>\n",
       "      <td>30s</td>\n",
       "      <td>0.170840</td>\n",
       "      <td>3195.0</td>\n",
       "      <td>20113</td>\n",
       "      <td>0.158852</td>\n",
       "    </tr>\n",
       "    <tr>\n",
       "      <th>3</th>\n",
       "      <td>40s</td>\n",
       "      <td>0.176429</td>\n",
       "      <td>3008.0</td>\n",
       "      <td>17684</td>\n",
       "      <td>0.170097</td>\n",
       "    </tr>\n",
       "    <tr>\n",
       "      <th>4</th>\n",
       "      <td>50s</td>\n",
       "      <td>0.213722</td>\n",
       "      <td>4488.0</td>\n",
       "      <td>20857</td>\n",
       "      <td>0.215180</td>\n",
       "    </tr>\n",
       "    <tr>\n",
       "      <th>5</th>\n",
       "      <td>60</td>\n",
       "      <td>0.255139</td>\n",
       "      <td>2702.0</td>\n",
       "      <td>10177</td>\n",
       "      <td>0.265501</td>\n",
       "    </tr>\n",
       "    <tr>\n",
       "      <th>6</th>\n",
       "      <td>70+</td>\n",
       "      <td>0.006000</td>\n",
       "      <td>0.0</td>\n",
       "      <td>5</td>\n",
       "      <td>0.000000</td>\n",
       "    </tr>\n",
       "  </tbody>\n",
       "</table>\n",
       "</div>"
      ],
      "text/plain": [
       "    age_range  conversion_probabiity  total_converted  total_actions  \\\n",
       "0  Before 20s               0.107823            331.0           4621   \n",
       "1         20s               0.171757           3973.0          25276   \n",
       "2         30s               0.170840           3195.0          20113   \n",
       "3         40s               0.176429           3008.0          17684   \n",
       "4         50s               0.213722           4488.0          20857   \n",
       "5          60               0.255139           2702.0          10177   \n",
       "6         70+               0.006000              0.0              5   \n",
       "\n",
       "   conversion_rate%  \n",
       "0          0.071630  \n",
       "1          0.157185  \n",
       "2          0.158852  \n",
       "3          0.170097  \n",
       "4          0.215180  \n",
       "5          0.265501  \n",
       "6          0.000000  "
      ]
     },
     "execution_count": 44,
     "metadata": {},
     "output_type": "execute_result"
    }
   ],
   "source": [
    "final_df['age'].value_counts().sort_values()\n",
    "bin_edges = [0, 20, 30, 40, 50, 60, 70, float('inf')]\n",
    "bin_labels = ['Before 20s', '20s', '30s', '40s', '50s', '60', '70+']\n",
    "final_df['age_range'] = pd.cut(final_df['age'], bins=bin_edges, labels=bin_labels, include_lowest=True)\n",
    "\n",
    "age_conversion = final_df.groupby('age_range').agg(conversion_probabiity=('conversion_proba', 'mean'),\n",
    "                                  total_converted=('conversion_pred', 'sum'),\n",
    "                                  total_actions=('conversion_pred', 'count')\n",
    "                            ).reset_index()\n",
    "age_conversion['conversion_rate%'] = age_conversion['total_converted']/ age_conversion['total_actions'] \n",
    "age_conversion"
   ]
  },
  {
   "cell_type": "code",
   "execution_count": 45,
   "id": "d2a308c3-feea-43b4-b545-1d5f14f7e264",
   "metadata": {},
   "outputs": [
    {
     "name": "stderr",
     "output_type": "stream",
     "text": [
      "C:\\Users\\Yosua\\anaconda3\\Lib\\site-packages\\seaborn\\_oldcore.py:1119: FutureWarning: use_inf_as_na option is deprecated and will be removed in a future version. Convert inf values to NaN before operating instead.\n",
      "  with pd.option_context('mode.use_inf_as_na', True):\n",
      "C:\\Users\\Yosua\\anaconda3\\Lib\\site-packages\\seaborn\\_oldcore.py:1119: FutureWarning: use_inf_as_na option is deprecated and will be removed in a future version. Convert inf values to NaN before operating instead.\n",
      "  with pd.option_context('mode.use_inf_as_na', True):\n"
     ]
    },
    {
     "data": {
      "text/plain": [
       "Text(0.5, 1.0, 'Conversion Metrics by Age Range')"
      ]
     },
     "execution_count": 45,
     "metadata": {},
     "output_type": "execute_result"
    },
    {
     "data": {
      "image/png": "[encoded data removed]",
      "text/plain": [
       "<Figure size 640x480 with 1 Axes>"
      ]
     },
     "metadata": {},
     "output_type": "display_data"
    }
   ],
   "source": [
    "sns.lineplot(x='age_range', y='conversion_probabiity', data=age_conversion, marker='o', linestyle='-')\n",
    "\n",
    "plt.xlabel('Age Range', fontsize=12)\n",
    "plt.ylabel('Pecentage (%)', fontsize=12)\n",
    "plt.title('Conversion Metrics by Age Range', fontsize=14)"
   ]
  },
  {
   "cell_type": "markdown",
   "id": "44adca1c-4854-4404-8dfd-748c0ad7ccb9",
   "metadata": {},
   "source": [
    "#### **Insights:**"
   ]
  },
  {
   "cell_type": "markdown",
   "id": "2480134a-b478-416c-a045-df2cd19fa587",
   "metadata": {},
   "source": [
    "+ We can see that the market is dominated by calls from clients in their 20s and 50s. \n",
    "+ It is more likely that a client approaching their 60s would convert.\n",
    "+ Not much to say for those younger than 20 and older than 70 as they aren't our targeted clients."
   ]
  },
  {
   "cell_type": "code",
   "execution_count": null,
   "id": "49561d5f-a853-498b-a1dd-f35863b974d8",
   "metadata": {},
   "outputs": [],
   "source": []
  },
  {
   "cell_type": "markdown",
   "id": "49aa639c-1dc5-4177-9761-c2d2fe5fda2b",
   "metadata": {},
   "source": [
    "### **Exploring the website that the caller came from (seller_id)**"
   ]
  },
  {
   "cell_type": "markdown",
   "id": "2930f8f5-07ff-4b98-8cbc-1283c107e949",
   "metadata": {},
   "source": [
    "+ seller_id = seller website the caller came from"
   ]
  },
  {
   "cell_type": "code",
   "execution_count": 46,
   "id": "69519d8a-ce05-462c-abb0-9cb6dc9c4473",
   "metadata": {
    "scrolled": true
   },
   "outputs": [
    {
     "data": {
      "text/html": [
       "<div>\n",
       "<style scoped>\n",
       "    .dataframe tbody tr th:only-of-type {\n",
       "        vertical-align: middle;\n",
       "    }\n",
       "\n",
       "    .dataframe tbody tr th {\n",
       "        vertical-align: top;\n",
       "    }\n",
       "\n",
       "    .dataframe thead th {\n",
       "        text-align: right;\n",
       "    }\n",
       "</style>\n",
       "<table border=\"1\" class=\"dataframe\">\n",
       "  <thead>\n",
       "    <tr style=\"text-align: right;\">\n",
       "      <th></th>\n",
       "      <th>seller_id</th>\n",
       "      <th>count</th>\n",
       "    </tr>\n",
       "  </thead>\n",
       "  <tbody>\n",
       "    <tr>\n",
       "      <th>0</th>\n",
       "      <td>507</td>\n",
       "      <td>25120</td>\n",
       "    </tr>\n",
       "    <tr>\n",
       "      <th>1</th>\n",
       "      <td>325</td>\n",
       "      <td>16696</td>\n",
       "    </tr>\n",
       "    <tr>\n",
       "      <th>2</th>\n",
       "      <td>506</td>\n",
       "      <td>14798</td>\n",
       "    </tr>\n",
       "    <tr>\n",
       "      <th>3</th>\n",
       "      <td>4127</td>\n",
       "      <td>9508</td>\n",
       "    </tr>\n",
       "    <tr>\n",
       "      <th>4</th>\n",
       "      <td>530</td>\n",
       "      <td>8912</td>\n",
       "    </tr>\n",
       "    <tr>\n",
       "      <th>5</th>\n",
       "      <td>783</td>\n",
       "      <td>4294</td>\n",
       "    </tr>\n",
       "    <tr>\n",
       "      <th>6</th>\n",
       "      <td>387</td>\n",
       "      <td>3966</td>\n",
       "    </tr>\n",
       "    <tr>\n",
       "      <th>7</th>\n",
       "      <td>782</td>\n",
       "      <td>3371</td>\n",
       "    </tr>\n",
       "    <tr>\n",
       "      <th>8</th>\n",
       "      <td>786</td>\n",
       "      <td>2762</td>\n",
       "    </tr>\n",
       "    <tr>\n",
       "      <th>9</th>\n",
       "      <td>514</td>\n",
       "      <td>2222</td>\n",
       "    </tr>\n",
       "    <tr>\n",
       "      <th>10</th>\n",
       "      <td>785</td>\n",
       "      <td>2157</td>\n",
       "    </tr>\n",
       "    <tr>\n",
       "      <th>11</th>\n",
       "      <td>1093</td>\n",
       "      <td>1877</td>\n",
       "    </tr>\n",
       "    <tr>\n",
       "      <th>12</th>\n",
       "      <td>1094</td>\n",
       "      <td>1417</td>\n",
       "    </tr>\n",
       "    <tr>\n",
       "      <th>13</th>\n",
       "      <td>525</td>\n",
       "      <td>1235</td>\n",
       "    </tr>\n",
       "    <tr>\n",
       "      <th>14</th>\n",
       "      <td>520</td>\n",
       "      <td>782</td>\n",
       "    </tr>\n",
       "    <tr>\n",
       "      <th>15</th>\n",
       "      <td>1095</td>\n",
       "      <td>199</td>\n",
       "    </tr>\n",
       "    <tr>\n",
       "      <th>16</th>\n",
       "      <td>1055</td>\n",
       "      <td>194</td>\n",
       "    </tr>\n",
       "    <tr>\n",
       "      <th>17</th>\n",
       "      <td>531</td>\n",
       "      <td>33</td>\n",
       "    </tr>\n",
       "    <tr>\n",
       "      <th>18</th>\n",
       "      <td>1</td>\n",
       "      <td>3</td>\n",
       "    </tr>\n",
       "  </tbody>\n",
       "</table>\n",
       "</div>"
      ],
      "text/plain": [
       "    seller_id  count\n",
       "0         507  25120\n",
       "1         325  16696\n",
       "2         506  14798\n",
       "3        4127   9508\n",
       "4         530   8912\n",
       "5         783   4294\n",
       "6         387   3966\n",
       "7         782   3371\n",
       "8         786   2762\n",
       "9         514   2222\n",
       "10        785   2157\n",
       "11       1093   1877\n",
       "12       1094   1417\n",
       "13        525   1235\n",
       "14        520    782\n",
       "15       1095    199\n",
       "16       1055    194\n",
       "17        531     33\n",
       "18          1      3"
      ]
     },
     "execution_count": 46,
     "metadata": {},
     "output_type": "execute_result"
    }
   ],
   "source": [
    "final_df['seller_id'].value_counts().reset_index()"
   ]
  },
  {
   "cell_type": "code",
   "execution_count": 47,
   "id": "31abb1a8-3088-4f10-94db-4b1e44eb4c52",
   "metadata": {
    "scrolled": true
   },
   "outputs": [
    {
     "data": {
      "text/html": [
       "<div>\n",
       "<style scoped>\n",
       "    .dataframe tbody tr th:only-of-type {\n",
       "        vertical-align: middle;\n",
       "    }\n",
       "\n",
       "    .dataframe tbody tr th {\n",
       "        vertical-align: top;\n",
       "    }\n",
       "\n",
       "    .dataframe thead th {\n",
       "        text-align: right;\n",
       "    }\n",
       "</style>\n",
       "<table border=\"1\" class=\"dataframe\">\n",
       "  <thead>\n",
       "    <tr style=\"text-align: right;\">\n",
       "      <th></th>\n",
       "      <th>seller_id</th>\n",
       "      <th>conversion_probabiity</th>\n",
       "      <th>total_converted</th>\n",
       "      <th>total_actions</th>\n",
       "      <th>conversion_rate%</th>\n",
       "    </tr>\n",
       "  </thead>\n",
       "  <tbody>\n",
       "    <tr>\n",
       "      <th>0</th>\n",
       "      <td>1</td>\n",
       "      <td>0.386667</td>\n",
       "      <td>1.0</td>\n",
       "      <td>3</td>\n",
       "      <td>0.333333</td>\n",
       "    </tr>\n",
       "    <tr>\n",
       "      <th>16</th>\n",
       "      <td>1094</td>\n",
       "      <td>0.271997</td>\n",
       "      <td>365.0</td>\n",
       "      <td>1417</td>\n",
       "      <td>0.257586</td>\n",
       "    </tr>\n",
       "    <tr>\n",
       "      <th>10</th>\n",
       "      <td>782</td>\n",
       "      <td>0.264037</td>\n",
       "      <td>865.0</td>\n",
       "      <td>3371</td>\n",
       "      <td>0.256600</td>\n",
       "    </tr>\n",
       "    <tr>\n",
       "      <th>18</th>\n",
       "      <td>4127</td>\n",
       "      <td>0.243085</td>\n",
       "      <td>2255.0</td>\n",
       "      <td>9508</td>\n",
       "      <td>0.237169</td>\n",
       "    </tr>\n",
       "    <tr>\n",
       "      <th>6</th>\n",
       "      <td>520</td>\n",
       "      <td>0.226701</td>\n",
       "      <td>192.0</td>\n",
       "      <td>782</td>\n",
       "      <td>0.245524</td>\n",
       "    </tr>\n",
       "    <tr>\n",
       "      <th>12</th>\n",
       "      <td>785</td>\n",
       "      <td>0.224390</td>\n",
       "      <td>508.0</td>\n",
       "      <td>2157</td>\n",
       "      <td>0.235512</td>\n",
       "    </tr>\n",
       "    <tr>\n",
       "      <th>3</th>\n",
       "      <td>506</td>\n",
       "      <td>0.223467</td>\n",
       "      <td>3285.0</td>\n",
       "      <td>14798</td>\n",
       "      <td>0.221989</td>\n",
       "    </tr>\n",
       "    <tr>\n",
       "      <th>11</th>\n",
       "      <td>783</td>\n",
       "      <td>0.218666</td>\n",
       "      <td>897.0</td>\n",
       "      <td>4294</td>\n",
       "      <td>0.208896</td>\n",
       "    </tr>\n",
       "    <tr>\n",
       "      <th>15</th>\n",
       "      <td>1093</td>\n",
       "      <td>0.215519</td>\n",
       "      <td>379.0</td>\n",
       "      <td>1877</td>\n",
       "      <td>0.201918</td>\n",
       "    </tr>\n",
       "    <tr>\n",
       "      <th>1</th>\n",
       "      <td>325</td>\n",
       "      <td>0.215219</td>\n",
       "      <td>3448.0</td>\n",
       "      <td>16696</td>\n",
       "      <td>0.206517</td>\n",
       "    </tr>\n",
       "    <tr>\n",
       "      <th>7</th>\n",
       "      <td>525</td>\n",
       "      <td>0.203846</td>\n",
       "      <td>256.0</td>\n",
       "      <td>1235</td>\n",
       "      <td>0.207287</td>\n",
       "    </tr>\n",
       "    <tr>\n",
       "      <th>13</th>\n",
       "      <td>786</td>\n",
       "      <td>0.191564</td>\n",
       "      <td>500.0</td>\n",
       "      <td>2762</td>\n",
       "      <td>0.181028</td>\n",
       "    </tr>\n",
       "    <tr>\n",
       "      <th>17</th>\n",
       "      <td>1095</td>\n",
       "      <td>0.190201</td>\n",
       "      <td>33.0</td>\n",
       "      <td>199</td>\n",
       "      <td>0.165829</td>\n",
       "    </tr>\n",
       "    <tr>\n",
       "      <th>4</th>\n",
       "      <td>507</td>\n",
       "      <td>0.172667</td>\n",
       "      <td>4148.0</td>\n",
       "      <td>25120</td>\n",
       "      <td>0.165127</td>\n",
       "    </tr>\n",
       "    <tr>\n",
       "      <th>9</th>\n",
       "      <td>531</td>\n",
       "      <td>0.150909</td>\n",
       "      <td>5.0</td>\n",
       "      <td>33</td>\n",
       "      <td>0.151515</td>\n",
       "    </tr>\n",
       "    <tr>\n",
       "      <th>5</th>\n",
       "      <td>514</td>\n",
       "      <td>0.146242</td>\n",
       "      <td>317.0</td>\n",
       "      <td>2222</td>\n",
       "      <td>0.142664</td>\n",
       "    </tr>\n",
       "    <tr>\n",
       "      <th>2</th>\n",
       "      <td>387</td>\n",
       "      <td>0.048104</td>\n",
       "      <td>119.0</td>\n",
       "      <td>3966</td>\n",
       "      <td>0.030005</td>\n",
       "    </tr>\n",
       "    <tr>\n",
       "      <th>8</th>\n",
       "      <td>530</td>\n",
       "      <td>0.032948</td>\n",
       "      <td>132.0</td>\n",
       "      <td>8912</td>\n",
       "      <td>0.014811</td>\n",
       "    </tr>\n",
       "    <tr>\n",
       "      <th>14</th>\n",
       "      <td>1055</td>\n",
       "      <td>0.015464</td>\n",
       "      <td>0.0</td>\n",
       "      <td>194</td>\n",
       "      <td>0.000000</td>\n",
       "    </tr>\n",
       "  </tbody>\n",
       "</table>\n",
       "</div>"
      ],
      "text/plain": [
       "    seller_id  conversion_probabiity  total_converted  total_actions  \\\n",
       "0           1               0.386667              1.0              3   \n",
       "16       1094               0.271997            365.0           1417   \n",
       "10        782               0.264037            865.0           3371   \n",
       "18       4127               0.243085           2255.0           9508   \n",
       "6         520               0.226701            192.0            782   \n",
       "12        785               0.224390            508.0           2157   \n",
       "3         506               0.223467           3285.0          14798   \n",
       "11        783               0.218666            897.0           4294   \n",
       "15       1093               0.215519            379.0           1877   \n",
       "1         325               0.215219           3448.0          16696   \n",
       "7         525               0.203846            256.0           1235   \n",
       "13        786               0.191564            500.0           2762   \n",
       "17       1095               0.190201             33.0            199   \n",
       "4         507               0.172667           4148.0          25120   \n",
       "9         531               0.150909              5.0             33   \n",
       "5         514               0.146242            317.0           2222   \n",
       "2         387               0.048104            119.0           3966   \n",
       "8         530               0.032948            132.0           8912   \n",
       "14       1055               0.015464              0.0            194   \n",
       "\n",
       "    conversion_rate%  \n",
       "0           0.333333  \n",
       "16          0.257586  \n",
       "10          0.256600  \n",
       "18          0.237169  \n",
       "6           0.245524  \n",
       "12          0.235512  \n",
       "3           0.221989  \n",
       "11          0.208896  \n",
       "15          0.201918  \n",
       "1           0.206517  \n",
       "7           0.207287  \n",
       "13          0.181028  \n",
       "17          0.165829  \n",
       "4           0.165127  \n",
       "9           0.151515  \n",
       "5           0.142664  \n",
       "2           0.030005  \n",
       "8           0.014811  \n",
       "14          0.000000  "
      ]
     },
     "execution_count": 47,
     "metadata": {},
     "output_type": "execute_result"
    }
   ],
   "source": [
    "seller_website = final_df.groupby('seller_id').agg(conversion_probabiity=('conversion_proba', 'mean'),\n",
    "                                  total_converted=('conversion_pred', 'sum'),\n",
    "                                  total_actions=('conversion_pred', 'count')\n",
    "                            ).reset_index()\n",
    "seller_website['conversion_rate%'] = seller_website['total_converted']/ seller_website['total_actions'] \n",
    "seller_website.sort_values(by='conversion_probabiity', ascending=False)"
   ]
  },
  {
   "cell_type": "markdown",
   "id": "badd56d7-9a59-46b8-9268-686200ecd52f",
   "metadata": {},
   "source": [
    "#### **Insights:**"
   ]
  },
  {
   "cell_type": "markdown",
   "id": "29d8012a-e12f-4523-8301-bbeb6ef082c5",
   "metadata": {},
   "source": [
    "+ We are dealing with a case where we high conversaion rate meets low traffic. Specifically in our case, a few of the website from where the call came from has a high probability of converting but low number in traffic.\n",
    "+ From a quick glance, we see that seller_id 782 and 4127 has a high likelihood of conversion with a decent amount of traffic.\n",
    "+ From our previous analysis, I am going to check the states that came to call from the website(seller 782)."
   ]
  },
  {
   "cell_type": "code",
   "execution_count": 48,
   "id": "020498b0-b251-4e07-a921-e6279d40cbfd",
   "metadata": {
    "scrolled": true
   },
   "outputs": [
    {
     "data": {
      "text/html": [
       "<div>\n",
       "<style scoped>\n",
       "    .dataframe tbody tr th:only-of-type {\n",
       "        vertical-align: middle;\n",
       "    }\n",
       "\n",
       "    .dataframe tbody tr th {\n",
       "        vertical-align: top;\n",
       "    }\n",
       "\n",
       "    .dataframe thead th {\n",
       "        text-align: right;\n",
       "    }\n",
       "</style>\n",
       "<table border=\"1\" class=\"dataframe\">\n",
       "  <thead>\n",
       "    <tr style=\"text-align: right;\">\n",
       "      <th></th>\n",
       "      <th>state</th>\n",
       "      <th>traffic_count</th>\n",
       "    </tr>\n",
       "  </thead>\n",
       "  <tbody>\n",
       "    <tr>\n",
       "      <th>0</th>\n",
       "      <td>CO</td>\n",
       "      <td>3344</td>\n",
       "    </tr>\n",
       "    <tr>\n",
       "      <th>1</th>\n",
       "      <td>MO</td>\n",
       "      <td>5</td>\n",
       "    </tr>\n",
       "    <tr>\n",
       "      <th>2</th>\n",
       "      <td>KS</td>\n",
       "      <td>3</td>\n",
       "    </tr>\n",
       "    <tr>\n",
       "      <th>3</th>\n",
       "      <td>CA</td>\n",
       "      <td>2</td>\n",
       "    </tr>\n",
       "    <tr>\n",
       "      <th>4</th>\n",
       "      <td>AR</td>\n",
       "      <td>2</td>\n",
       "    </tr>\n",
       "    <tr>\n",
       "      <th>5</th>\n",
       "      <td>MT</td>\n",
       "      <td>2</td>\n",
       "    </tr>\n",
       "    <tr>\n",
       "      <th>6</th>\n",
       "      <td>AL</td>\n",
       "      <td>2</td>\n",
       "    </tr>\n",
       "    <tr>\n",
       "      <th>7</th>\n",
       "      <td>IL</td>\n",
       "      <td>2</td>\n",
       "    </tr>\n",
       "    <tr>\n",
       "      <th>8</th>\n",
       "      <td>NE</td>\n",
       "      <td>1</td>\n",
       "    </tr>\n",
       "    <tr>\n",
       "      <th>9</th>\n",
       "      <td>TX</td>\n",
       "      <td>1</td>\n",
       "    </tr>\n",
       "    <tr>\n",
       "      <th>10</th>\n",
       "      <td>LA</td>\n",
       "      <td>1</td>\n",
       "    </tr>\n",
       "    <tr>\n",
       "      <th>11</th>\n",
       "      <td>FL</td>\n",
       "      <td>1</td>\n",
       "    </tr>\n",
       "    <tr>\n",
       "      <th>12</th>\n",
       "      <td>AK</td>\n",
       "      <td>1</td>\n",
       "    </tr>\n",
       "    <tr>\n",
       "      <th>13</th>\n",
       "      <td>NC</td>\n",
       "      <td>1</td>\n",
       "    </tr>\n",
       "    <tr>\n",
       "      <th>14</th>\n",
       "      <td>MN</td>\n",
       "      <td>1</td>\n",
       "    </tr>\n",
       "    <tr>\n",
       "      <th>15</th>\n",
       "      <td>KY</td>\n",
       "      <td>1</td>\n",
       "    </tr>\n",
       "    <tr>\n",
       "      <th>16</th>\n",
       "      <td>NM</td>\n",
       "      <td>1</td>\n",
       "    </tr>\n",
       "  </tbody>\n",
       "</table>\n",
       "</div>"
      ],
      "text/plain": [
       "   state  traffic_count\n",
       "0     CO           3344\n",
       "1     MO              5\n",
       "2     KS              3\n",
       "3     CA              2\n",
       "4     AR              2\n",
       "5     MT              2\n",
       "6     AL              2\n",
       "7     IL              2\n",
       "8     NE              1\n",
       "9     TX              1\n",
       "10    LA              1\n",
       "11    FL              1\n",
       "12    AK              1\n",
       "13    NC              1\n",
       "14    MN              1\n",
       "15    KY              1\n",
       "16    NM              1"
      ]
     },
     "execution_count": 48,
     "metadata": {},
     "output_type": "execute_result"
    }
   ],
   "source": [
    "final_df[final_df['seller_id'] == 782]['state'].value_counts().reset_index().rename(columns={'count':'traffic_count'})"
   ]
  },
  {
   "cell_type": "code",
   "execution_count": null,
   "id": "eeef9029-cbd3-4ac4-8b10-a45d7c070fb0",
   "metadata": {},
   "outputs": [],
   "source": []
  },
  {
   "cell_type": "code",
   "execution_count": null,
   "id": "b685ec1e-9473-430f-adf1-ed329870ce7c",
   "metadata": {},
   "outputs": [],
   "source": []
  },
  {
   "cell_type": "markdown",
   "id": "fd4cfea0-b7d6-42e2-a11c-a18c0cd8edb9",
   "metadata": {},
   "source": [
    "+ Surely enough after looking into Colorado, the top website in Colorado is seller_id = 782."
   ]
  },
  {
   "cell_type": "code",
   "execution_count": 49,
   "id": "106e0089-b998-4be8-8dc3-010ad3bdcaee",
   "metadata": {},
   "outputs": [
    {
     "data": {
      "image/png": "[encoded data removed]",
      "text/plain": [
       "<Figure size 800x500 with 1 Axes>"
      ]
     },
     "metadata": {},
     "output_type": "display_data"
    }
   ],
   "source": [
    "CO_websites = final_df[final_df['state'] == 'CO']['seller_id'].value_counts().reset_index().rename(columns={'count':'freq'}).sort_values(\n",
    "    by='freq', ascending=False)\n",
    "\n",
    "plt.figure(figsize=(8, 5))\n",
    "x =sns.barplot(x='seller_id', y='freq', data=CO_websites, palette='husl')\n",
    "plt.title(\"Colorado's Busiest Websites (Measured by call traffic)\")\n",
    "plt.xlabel('seller_id (Website)')\n",
    "plt.ylabel('Total Count')\n",
    "plt.bar_label(x.containers[0], fmt='%.2f', fontsize=10)\n",
    "plt.show()"
   ]
  },
  {
   "cell_type": "code",
   "execution_count": null,
   "id": "225d16d3-771a-45e6-9769-754e6a78dcfe",
   "metadata": {},
   "outputs": [],
   "source": []
  },
  {
   "cell_type": "markdown",
   "id": "bd863cd0-1a5d-4b14-9057-2aa3a5d2c80a",
   "metadata": {},
   "source": [
    "### Other things to look at: Household Income"
   ]
  },
  {
   "cell_type": "code",
   "execution_count": 50,
   "id": "338dbd8d-8054-4725-acf0-fe582e3873e4",
   "metadata": {},
   "outputs": [
    {
     "data": {
      "text/plain": [
       "Index(['call_id', 'phone_num_hash', 'buyer_id', 'source_id', 'time',\n",
       "       'call_duration', 'conversion', 'state', 'currently_insured',\n",
       "       'connection_type', 'browser', 'browser_platform', 'device', 'age',\n",
       "       'bmi', 'coverage_type', 'credit_rating', 'current_company', 'gender',\n",
       "       'height', 'household_income', 'married', 'household_size', 'subsidy',\n",
       "       'weight', 'seller_id', 'seller_type', 'month', 'conversion_pred',\n",
       "       'conversion_proba', 'age_range'],\n",
       "      dtype='object')"
      ]
     },
     "execution_count": 50,
     "metadata": {},
     "output_type": "execute_result"
    }
   ],
   "source": [
    "final_df.columns"
   ]
  },
  {
   "cell_type": "code",
   "execution_count": 51,
   "id": "b43026a5-5645-4d54-a52c-bb42b22b83b7",
   "metadata": {},
   "outputs": [
    {
     "data": {
      "image/png": "[encoded data removed]",
      "text/plain": [
       "<Figure size 800x500 with 1 Axes>"
      ]
     },
     "metadata": {},
     "output_type": "display_data"
    }
   ],
   "source": [
    "duration_conversion = final_sample.groupby('conversion_pred')['household_income'].mean().reset_index().rename(\n",
    "    columns={'household_income': 'average_household_income'})\n",
    "duration_conversion['conversion_pred'] = duration_conversion['conversion_pred'].apply(lambda x: 'Did not Convert' if x==0 else 'Converted')\n",
    "duration_conversion['average_household_income'] = duration_conversion['average_household_income'].round(2)\n",
    "duration_conversion\n",
    "\n",
    "plt.figure(figsize=(8, 5))\n",
    "x =sns.barplot(x='conversion_pred', y='average_household_income', data=duration_conversion, palette='husl')\n",
    "plt.title('Conversion by Average Household Income')\n",
    "plt.xlabel('Conversion')\n",
    "plt.ylabel('Average Household Income')\n",
    "plt.bar_label(x.containers[0], fmt='%.2f', fontsize=10)\n",
    "plt.show()"
   ]
  },
  {
   "cell_type": "markdown",
   "id": "bf2012c3-a146-4f96-b04e-661db44af2f8",
   "metadata": {},
   "source": [
    "#### **Insights:**"
   ]
  },
  {
   "cell_type": "markdown",
   "id": "e47a8dc6-10c2-4928-b6cd-705f8ca4db60",
   "metadata": {},
   "source": [
    "We can see that the callers who did not convert have on average a higher household income. The average income of those who did not convert is nearly double the average household income of those who converted. This makes sense as those with a lesser income are more likely to lack coverage compared to higher income groups. Due of this, they are in search of the better health plan in which our services could potentially offer."
   ]
  },
  {
   "cell_type": "markdown",
   "id": "ad5c5b8c-e27a-4c9a-8438-cd2e8ede66e0",
   "metadata": {},
   "source": [
    "Does this mean lower household income callers are more valuable than higher household income callers?\n",
    "\n",
    "A caller is more valuable if they are more likely to convert. However, other factors should be considered such as quantity of conversions and its conversion rate."
   ]
  },
  {
   "cell_type": "code",
   "execution_count": 52,
   "id": "8fb5e204-4cd6-4375-a13a-44d29fc78a45",
   "metadata": {},
   "outputs": [
    {
     "name": "stderr",
     "output_type": "stream",
     "text": [
      "C:\\Users\\Yosua\\AppData\\Local\\Temp\\ipykernel_33720\\3170647206.py:5: FutureWarning: The default of observed=False is deprecated and will be changed to True in a future version of pandas. Pass observed=False to retain current behavior or observed=True to adopt the future default and silence this warning.\n",
      "  income_binned_conversion = final_df.groupby('household_income_bin').agg(conversion_probabiity=('conversion_proba', 'mean'),\n",
      "C:\\Users\\Yosua\\anaconda3\\Lib\\site-packages\\seaborn\\categorical.py:641: FutureWarning: The default of observed=False is deprecated and will be changed to True in a future version of pandas. Pass observed=False to retain current behavior or observed=True to adopt the future default and silence this warning.\n",
      "  grouped_vals = vals.groupby(grouper)\n",
      "C:\\Users\\Yosua\\anaconda3\\Lib\\site-packages\\seaborn\\categorical.py:641: FutureWarning: The default of observed=False is deprecated and will be changed to True in a future version of pandas. Pass observed=False to retain current behavior or observed=True to adopt the future default and silence this warning.\n",
      "  grouped_vals = vals.groupby(grouper)\n"
     ]
    },
    {
     "data": {
      "image/png": "[encoded data removed]",
      "text/plain": [
       "<Figure size 1600x800 with 2 Axes>"
      ]
     },
     "metadata": {},
     "output_type": "display_data"
    }
   ],
   "source": [
    "bin_edges = [0, 20000, 40000, 60000, 80000, 120000, 150000, float('inf')]\n",
    "bin_labels = ['0-20k', '21k-40k', '41k-60k', '61k-80k', '81k-120k', '121k-150k', '150k+']\n",
    "final_df['household_income_bin'] = pd.cut(final_df['household_income'], bins=bin_edges, labels=bin_labels, include_lowest=True)\n",
    "\n",
    "income_binned_conversion = final_df.groupby('household_income_bin').agg(conversion_probabiity=('conversion_proba', 'mean'),\n",
    "                                  total_converted=('conversion_pred', 'sum'),\n",
    "                                  total_actions=('conversion_pred', 'count')\n",
    "                            ).reset_index()\n",
    "income_binned_conversion['conversion_rate'] = income_binned_conversion['total_converted']/ income_binned_conversion['total_actions'] \n",
    "\n",
    "\n",
    "fig, axes = plt.subplots(1, 2, figsize=(16, 8))\n",
    "\n",
    "sns.barplot(x='household_income_bin', y='total_converted', data=income_binned_conversion, ax=axes[0], color='skyblue')\n",
    "axes[0].set_title('Household Income Bracket by Number of Calls', fontsize=20)\n",
    "axes[0].set_xlabel('Income Bracket', fontsize = 18)\n",
    "axes[0].set_ylabel('Total Conversion', fontsize = 18)\n",
    "axes[0].bar_label(axes[0].containers[0], fontsize=12)\n",
    "axes[0].tick_params(labelsize=12)\n",
    "\n",
    "sns.barplot(x='household_income_bin', y='conversion_rate', data=income_binned_conversion, ax=axes[1], color='skyblue')\n",
    "axes[1].set_title('Household Income Bracket by Conversion Rate', fontsize=20)\n",
    "axes[1].set_xlabel('Income Bracket', fontsize = 18)\n",
    "axes[1].set_ylabel('Conversion Rate', fontsize = 18)\n",
    "axes[1].bar_label(axes[1].containers[0], fmt='%.2f%%', fontsize=12)\n",
    "axes[1].tick_params(labelsize=12)\n",
    "\n",
    "plt.tight_layout()\n",
    "plt.show()"
   ]
  },
  {
   "cell_type": "markdown",
   "id": "2212cc1d-7438-4187-9ea4-dbd978dc4d55",
   "metadata": {},
   "source": [
    "#### **Insights:**"
   ]
  },
  {
   "cell_type": "markdown",
   "id": "c700f2c7-edec-4159-9135-06827cca87ae",
   "metadata": {},
   "source": [
    "Here we can see a better breakdown of the household incomes and which bracket they fall under.  \n",
    "\n",
    "From earlier, we found that the callers who did convert have on average a lower household income. However, we cannot conclude just yet that lower household income callers are more valuable. If caller value is based on the metric of being more likely to convert, then the previous statement does not hold true and the bar chart showing the average household income by conversion outcome was interpreted incorrectly. \n",
    "\n",
    "The reason for the average income of those converted being so low is due to the fact that the majority of callers and converted callers fall within the household income range of 20k-40k. We can see this by looking at the left chart above.\n",
    "\n",
    "Looking at the right charts above, we can see that callers with household incomes ranging from around 60k-120k have a conversion rate of about 30% which is higher than the other callers. What this means is that **these callers (~ 60k-120k household income) are more valuable** as they are more likely to convert than the other callers with a different household income range."
   ]
  },
  {
   "cell_type": "markdown",
   "id": "7714efd7-1c6d-49d8-897c-7d88663c48b9",
   "metadata": {},
   "source": [
    "#### **Additionally:**"
   ]
  },
  {
   "cell_type": "markdown",
   "id": "763b0819-cc7c-419c-8bdf-181024f17ebb",
   "metadata": {},
   "source": [
    "Let's take a look at the callers coming from other states once again to see if it could potentially be associated with our previous findings with regards to household income."
   ]
  },
  {
   "cell_type": "code",
   "execution_count": 53,
   "id": "bca6b987-691b-4479-bcb4-2728c3eda96d",
   "metadata": {},
   "outputs": [
    {
     "name": "stderr",
     "output_type": "stream",
     "text": [
      "C:\\Users\\Yosua\\AppData\\Local\\Temp\\ipykernel_33720\\156266854.py:1: FutureWarning: The default of observed=False is deprecated and will be changed to True in a future version of pandas. Pass observed=False to retain current behavior or observed=True to adopt the future default and silence this warning.\n",
      "  income_bin_metrics = final_df.groupby(['household_income_bin', 'state']).agg(total_converted=('conversion_pred', 'sum'),\n",
      "C:\\Users\\Yosua\\anaconda3\\Lib\\site-packages\\seaborn\\_oldcore.py:1119: FutureWarning: use_inf_as_na option is deprecated and will be removed in a future version. Convert inf values to NaN before operating instead.\n",
      "  with pd.option_context('mode.use_inf_as_na', True):\n",
      "C:\\Users\\Yosua\\anaconda3\\Lib\\site-packages\\seaborn\\_oldcore.py:1119: FutureWarning: use_inf_as_na option is deprecated and will be removed in a future version. Convert inf values to NaN before operating instead.\n",
      "  with pd.option_context('mode.use_inf_as_na', True):\n"
     ]
    },
    {
     "data": {
      "text/plain": [
       "Text(0.5, 1.0, 'Conversion Rate per Household Income Bracket')"
      ]
     },
     "execution_count": 53,
     "metadata": {},
     "output_type": "execute_result"
    },
    {
     "data": {
      "image/png": "[encoded data removed]",
      "text/plain": [
       "<Figure size 1000x600 with 1 Axes>"
      ]
     },
     "metadata": {},
     "output_type": "display_data"
    }
   ],
   "source": [
    "income_bin_metrics = final_df.groupby(['household_income_bin', 'state']).agg(total_converted=('conversion_pred', 'sum'),\n",
    "                              total_action=('conversion_pred', 'count')\n",
    "                            ).reset_index()\n",
    "income_bin_metrics['conversion_rate'] = income_bin_metrics['total_converted']/ income_bin_metrics['total_action']\n",
    "income_bin_metrics['conversion_rate'] = income_bin_metrics['conversion_rate'].fillna(0)\n",
    "\n",
    "\n",
    "z = income_bin_metrics[income_bin_metrics['state'].isin(list(converted_sorted[:5].iloc[:,0]))].sort_values(by=['state', 'household_income_bin'])\n",
    "\n",
    "plt.figure(figsize=(10, 6))\n",
    "sns.lineplot(x='household_income_bin', y='conversion_rate', data=z, marker='o', linestyle='-', hue='state')\n",
    "\n",
    "plt.xlabel('Household Income', fontsize=12)\n",
    "plt.ylabel('Conversion Rate', fontsize=12)\n",
    "#plt.xticks(rotation=90)\n",
    "plt.title('Conversion Rate per Household Income Bracket', fontsize=14)"
   ]
  },
  {
   "cell_type": "markdown",
   "id": "00b69e77-5a9f-4c54-a99d-7e3e378cc91a",
   "metadata": {},
   "source": [
    "#### **Insights:**"
   ]
  },
  {
   "cell_type": "markdown",
   "id": "410d52a4-998a-48e5-b44e-b53d6dc1bc08",
   "metadata": {},
   "source": [
    "The graph above selects the 5 states with the most converted calls, and their trends by conversion rate per household income.\n",
    "\n",
    "The top 5 states with the most converted calls were selected for this graph due to its high volume of data, as more data is better for identifying trends.\n",
    "For the most part, each states tend to follow the same trend. This backs up our previous claim stating that callers with household income ranging from 60k-120k are more 'valuable' (types of calls that are more likely to convert)."
   ]
  },
  {
   "cell_type": "markdown",
   "id": "ac52da8d-6185-4f0c-877f-7e09bf1a7cf7",
   "metadata": {},
   "source": []
  },
  {
   "cell_type": "markdown",
   "id": "d5b304ce-f520-4258-b073-70869f4367b4",
   "metadata": {},
   "source": [
    "<hr style=\"border:5px solid Black\">"
   ]
  },
  {
   "cell_type": "markdown",
   "id": "59f3af93-ac92-40ef-b194-75a4ba241cc8",
   "metadata": {},
   "source": [
    "<h2 style=\"color: blue;\">Conclusion From Our Analysis:</h2>"
   ]
  },
  {
   "cell_type": "markdown",
   "id": "7c1ebe19-1bf9-4453-98e1-63fc303010e6",
   "metadata": {},
   "source": [
    "<hr style=\"border:3px solid Black\">"
   ]
  },
  {
   "cell_type": "markdown",
   "id": "ad70c012-5dbc-4a73-94a7-f05adff39f22",
   "metadata": {},
   "source": [
    "**Reminder:** \n",
    "+ Calls vary in \"quality\" (likelihood of purchasing a policy)\n",
    "+ More likely to convert (purchase) = More valuable "
   ]
  },
  {
   "cell_type": "markdown",
   "id": "41a704a8-8e77-474c-b39b-fbc82f62ec24",
   "metadata": {},
   "source": [
    "**The goal is to analyze which types of calls are more likely to convert. Here is what I found based off my analysis using our model's predicted data from task 1:**\n",
    "\n",
    "+ Most calls that have a long duration tends to convert more likely.\n",
    "+ Many \"High Quality\" clients are located in Colorado.\n",
    "+ Clients are more likely to convert as they age up until 70 years old. Seller_id (782 and 4127) are high quality website sources to name a few.\n",
    "    + After looking at 782, we found that the website traffic came majority from the state of Colorado which we conclude earlier to have high conversion rate along with high conversion count.\n",
    "+ Callers who had converted have on average a lower household income than those who did not convert. However, this doesn't necessarily mean lower houshold income callers are more likely to convert.\n",
    "    + **Reason:** Majority of the converted callers recorded in the data falls within the household income range of 20k-40k. This does not tell us how likely they are to convert, but instead deflates the average number in household income for callers that have converted.\n",
    "    + **Actual Results:** Callers with household income within 60k-120k have conversion rate of about 30% higher, which is much higher than the other callers. In conclusion, <u>these specific type of callers, with a household income ranging from 60k-120k, are more likely to convert and is what we define as more valuable.</u>\n",
    "+ The top five states with the highest number of converted callers all show similar trends in conversion rates based on household income levels.\n",
    "\n",
    "Of course, there are additional factors to consider, such as the caller's browsing information, or a deeper dive into the timing of the calls, just to name a few. If given the total sales and spendings, we can look at metrics such as the cost of customer acquisition, cost per lead, and average order value. Exploratory Data Analysis (EDA) can offer valuable insights and help guide even further investigation!"
   ]
  },
  {
   "cell_type": "markdown",
   "id": "fa6acba0-c2d8-40f6-840c-bc3653be201b",
   "metadata": {},
   "source": [
    "<hr style=\"border:5px solid Black\">"
   ]
  },
  {
   "cell_type": "markdown",
   "id": "8990782f-7147-4c33-b631-c47bd6349b57",
   "metadata": {},
   "source": [
    "<h1 align=\"center\"> Thank You</h1>    "
   ]
  },
  {
   "cell_type": "markdown",
   "id": "1963f967-6900-4833-bbfb-106e12721017",
   "metadata": {},
   "source": [
    "<hr style=\"border:5px solid Black\">"
   ]
  },
  {
   "cell_type": "markdown",
   "id": "ea4b7e05-0a42-4320-9cff-4a2a8619308e",
   "metadata": {},
   "source": [
    "**Feel free to contact me:**   \n",
    "\n",
    "**LinkedIn:** https://www.linkedin.com/in/yosua-saputra  \n",
    "**Website:** https://ohayosua.github.io/yosuajsaputra/  \n",
    "**Github:** https://github.com/ohayosua  \n",
    "**Email:** yosua.jsaputra@gmail.com  "
   ]
  },
  {
   "cell_type": "markdown",
   "id": "5cf8080f-fb33-453f-9539-b518c1ffe7df",
   "metadata": {},
   "source": [
    "<h5 align=\"center\"> This project is owned and created by Yosua Saputra  </h5> "
   ]
  },
  {
   "cell_type": "code",
   "execution_count": null,
   "id": "dd632926-18e4-4429-bfe5-23bbebc1e931",
   "metadata": {},
   "outputs": [],
   "source": []
  }
 ],
 "metadata": {
  "kernelspec": {
   "display_name": "Python 3 (ipykernel)",
   "language": "python",
   "name": "python3"
  },
  "language_info": {
   "codemirror_mode": {
    "name": "ipython",
    "version": 3
   },
   "file_extension": ".py",
   "mimetype": "text/x-python",
   "name": "python",
   "nbconvert_exporter": "python",
   "pygments_lexer": "ipython3",
   "version": "3.11.7"
  }
 },
 "nbformat": 4,
 "nbformat_minor": 5
}
