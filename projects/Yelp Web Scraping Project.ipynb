{
 "cells": [
  {
   "cell_type": "code",
   "execution_count": 1,
   "id": "03dc72ac",
   "metadata": {},
   "outputs": [],
   "source": [
    "from bs4 import BeautifulSoup\n",
    "import requests\n",
    "import re\n",
    "import pandas as pd\n",
    "import gspread\n",
    "from df2gspread import df2gspread as d2g\n",
    "from oauth2client.service_account import ServiceAccountCredentials\n",
    "import time \n",
    "import datetime"
   ]
  },
  {
   "cell_type": "code",
   "execution_count": 2,
   "id": "b8e93474",
   "metadata": {},
   "outputs": [],
   "source": [
    "#Project Idea: Web Scraping from Yelp to see which type of culinary cuisines are most popular within certain areas"
   ]
  },
  {
   "cell_type": "markdown",
   "id": "5c35caef",
   "metadata": {},
   "source": [
    "## Enter Location and State"
   ]
  },
  {
   "cell_type": "code",
   "execution_count": 3,
   "id": "b8786f10",
   "metadata": {
    "scrolled": true
   },
   "outputs": [
    {
     "name": "stdout",
     "output_type": "stream",
     "text": [
      "Location: los angeles\n",
      "State Abbreviation: ca\n",
      "https://www.yelp.com/search?find_desc=&find_loc=los+angeles%2C+ca&sortby=review_count&start=\n"
     ]
    }
   ],
   "source": [
    "location = input('Location: ')\n",
    "state = input('State Abbreviation: ')\n",
    "url_location = ''\n",
    "if type(location) == str:\n",
    "    location = re.sub(' ', '+', location)\n",
    "    url_location += location\n",
    "    #print(url_location)\n",
    "    url = 'https://www.yelp.com/search?find_desc=&find_loc=' + url_location + '%2C+'+ state + '&sortby=review_count&start='\n",
    "    print(url)\n",
    "else:\n",
    "    url = 'https://www.yelp.com/search?find_desc=&find_loc=' + url_location + '%2C+'+ state + '&sortby=review_count&start='\n",
    "    print(url)\n"
   ]
  },
  {
   "cell_type": "markdown",
   "id": "ffdc4773",
   "metadata": {},
   "source": [
    "## Building our Scraper Model and Exporting data onto Google Sheet"
   ]
  },
  {
   "cell_type": "code",
   "execution_count": 4,
   "id": "a7939a4e",
   "metadata": {
    "scrolled": true
   },
   "outputs": [],
   "source": [
    "def webscrape_yelp_to_df():\n",
    "    total_businesses = {'Restaurants': [], 'Genre': [],\n",
    "                        'Price Range': [],\n",
    "                        'Rating': [], 'Review Count': []}\n",
    "    for x in range(0, 41, 10):\n",
    "        page = requests.get(url + str(x))\n",
    "        soup = BeautifulSoup(page.text, 'html')\n",
    "\n",
    "        businesses = soup.find_all('li', class_ = 'css-1qn0b6x')\n",
    "        restaurants = []\n",
    "        all_types = []\n",
    "        genre = []\n",
    "        price_tier = []\n",
    "        ratings = []\n",
    "        reviews = []\n",
    "        for i in businesses:\n",
    "            names = i.find('a', class_ = 'css-19v1rkv')\n",
    "            types = i.find_all('span', class_ = 'css-11bijt4')\n",
    "            price = i.find('span', class_ = ['priceRange__09f24__mmOuH css-blvn7s', 'priceRange__09f24__mmOuH css-chan6m'])\n",
    "            rating = i.find('span', class_ = 'css-gutk1c')\n",
    "            review_html = i.find('div', class_ = 'css-bwc5d7')\n",
    "            if (names is None and \n",
    "                price is None and \n",
    "                rating is None and\n",
    "                review_html is None and len(types) == 0):\n",
    "                continue\n",
    "            else:\n",
    "                all_types.append(types)\n",
    "                restaurants.append(names.text)\n",
    "                ratings.append(float(rating.text))\n",
    "                # review text print out format: e.g( 4.4 (5.2k reviews)). Using regex to get count of reviews inside parenthesis\n",
    "                review_count = re.findall(\"\\((.*?)\\)\", review_html.text)[0]\n",
    "                #review_count_k = re.sub('[^.kK0-9]+', '', review_count)\n",
    "                review_count_k = float(re.sub('[^.0-9]+', '', review_count)) * 1000\n",
    "                reviews.append(review_count_k)\n",
    "                #Some businesses aren't restaurants or are free so there are no price tiers. In this project we will label these free.\n",
    "                try:\n",
    "                    price_tier.append(price.text)\n",
    "                except AttributeError:\n",
    "                    price = 'Free'\n",
    "                    price_tier.append(price)\n",
    "\n",
    "\n",
    "\n",
    "        for i in all_types:\n",
    "            text_types = list(j.text for j in i)\n",
    "            genre.append(text_types)\n",
    "\n",
    "        '''\n",
    "            Some restaurants/businesses have multiple locations and chains with the same name. For simplicity of this project we\n",
    "            rename the first one adding (original) to its title. \n",
    "\n",
    "            for i in range(0, len(restaurants) -1):\n",
    "                if restaurants[i] in restaurants[i+1: ]:\n",
    "                    restaurants[i] += ' (original)' \n",
    "        '''\n",
    "\n",
    "        yelp_dic = {\n",
    "            'Restaurants': restaurants,\n",
    "            'Genre': genre,\n",
    "            'Price Range': price_tier,\n",
    "            'Rating': ratings,\n",
    "            'Review Count': reviews}\n",
    "\n",
    "        for i in total_businesses.keys():\n",
    "            total_businesses[i] += yelp_dic[i]\n",
    "\n",
    "    yelp_df = pd.DataFrame.from_dict(total_businesses)\n",
    "    #yelp_df['Genre'] = yelp_df['Genre'].apply(lambda x: ','.join(x))\n",
    "    yelp_df['index'] = yelp_df.index\n",
    "    yelp_df = yelp_df.explode('Genre', ignore_index=True)\n",
    "    #yelp_df.head(50)\n",
    "    print(yelp_df)\n",
    "\n",
    "# --------------------------------------------------------------------------#    \n",
    "    \n",
    "    credentials = ServiceAccountCredentials.from_json_keyfile_name(\n",
    "    'yelp-web-scrape-data-80ec10844f0c.json')\n",
    "    gc = gspread.authorize(credentials)\n",
    "    gc\n",
    "    \n",
    "    \n",
    "    #Exporting yelp_df to my Google Sheet\n",
    "    spreadsheet_key = '1O3YkE1EWAmT4SsDnMcxX8Ft-p4RaTEqSEfVJbRUWcf0'\n",
    "    wks_name = 'Yelp DataFrame'\n",
    "    d2g.upload(yelp_df, spreadsheet_key, wks_name, credentials=credentials, row_names=False)\n",
    "    \n",
    "    \n",
    "    spreadsheet = gc.open_by_key(spreadsheet_key)\n",
    "    values = [yelp_df.columns.values.tolist()]\n",
    "    values.extend(yelp_df.values.tolist())\n",
    "    spreadsheet.values_update(wks_name, params={'valueInputOption': 'USER_ENTERED'}, body={'values': values})\n",
    "    \n",
    "    \n",
    "    Genres_split = yelp_df['Genre'].str.get_dummies(',')\n",
    "    Genres_split['index'] = Genres_split.index\n",
    "    #Genres_split\n",
    "    \n",
    "    \n",
    "    # Exporting Genres_split onto Google Sheet\n",
    "    wks_name_genre = 'Genre_split'\n",
    "    d2g.upload(Genres_split, spreadsheet_key, wks_name_genre, credentials=credentials, row_names= False)\n",
    "    \n",
    "    \n",
    "    \n",
    "    spreadsheet = gc.open_by_key(spreadsheet_key)\n",
    "    values = [Genres_split.columns.values.tolist()]\n",
    "    values.extend(Genres_split.values.tolist())\n",
    "    spreadsheet.values_update(wks_name_genre, params={'valueInputOption': 'USER_ENTERED'}, body={'values': values})\n",
    "\n"
   ]
  },
  {
   "cell_type": "code",
   "execution_count": 5,
   "id": "4c48c276",
   "metadata": {},
   "outputs": [
    {
     "name": "stdout",
     "output_type": "stream",
     "text": [
      "                                 Restaurants                   Genre  \\\n",
      "0                                  Daikokuya                   Ramen   \n",
      "1                                  Daikokuya                 Noodles   \n",
      "2                            Pink’s Hot Dogs                Hot Dogs   \n",
      "3                                 Republique                  French   \n",
      "4                                 Republique      Breakfast & Brunch   \n",
      "..                                       ...                     ...   \n",
      "121                                      EAT      Breakfast & Brunch   \n",
      "122                                      EAT              Sandwiches   \n",
      "123                                      EAT                   Cafes   \n",
      "124  Half & Half Tea Express - Monterey Park  Juice Bars & Smoothies   \n",
      "125  Half & Half Tea Express - Monterey Park              Bubble Tea   \n",
      "\n",
      "    Price Range  Rating  Review Count  index  \n",
      "0            $$     4.1        9500.0      0  \n",
      "1            $$     4.1        9500.0      0  \n",
      "2            $$     3.5        7700.0      1  \n",
      "3            $$     4.2        7100.0      2  \n",
      "4            $$     4.2        7100.0      2  \n",
      "..          ...     ...           ...    ...  \n",
      "121          $$     4.1        2900.0     48  \n",
      "122          $$     4.1        2900.0     48  \n",
      "123          $$     4.1        2900.0     48  \n",
      "124          $$     3.5        2900.0     49  \n",
      "125          $$     3.5        2900.0     49  \n",
      "\n",
      "[126 rows x 6 columns]\n",
      "None\n"
     ]
    }
   ],
   "source": [
    "print(webscrape_yelp_to_df())"
   ]
  },
  {
   "cell_type": "markdown",
   "id": "87b963cf",
   "metadata": {},
   "source": [
    "## Schedule Scraper to run every 2 minutes"
   ]
  },
  {
   "cell_type": "code",
   "execution_count": 6,
   "id": "cba954d5",
   "metadata": {},
   "outputs": [],
   "source": [
    "#!pip install gspread==3.6.0\n",
    "#!pip install df2gspread"
   ]
  },
  {
   "cell_type": "code",
   "execution_count": 7,
   "id": "022aff93",
   "metadata": {},
   "outputs": [
    {
     "name": "stdout",
     "output_type": "stream",
     "text": [
      "                                 Restaurants                   Genre  \\\n",
      "0                                  Daikokuya                   Ramen   \n",
      "1                                  Daikokuya                 Noodles   \n",
      "2                                 Republique                  French   \n",
      "3                                 Republique      Breakfast & Brunch   \n",
      "4                                 Republique           Cocktail Bars   \n",
      "..                                       ...                     ...   \n",
      "118        Gaucho Grill Argentine Steakhouse             Steakhouses   \n",
      "119        Gaucho Grill Argentine Steakhouse               Argentine   \n",
      "120        Gaucho Grill Argentine Steakhouse                    Bars   \n",
      "121  Half & Half Tea Express - Monterey Park  Juice Bars & Smoothies   \n",
      "122  Half & Half Tea Express - Monterey Park              Bubble Tea   \n",
      "\n",
      "    Price Range  Rating  Review Count  index  \n",
      "0            $$     4.1        9500.0      0  \n",
      "1            $$     4.1        9500.0      0  \n",
      "2            $$     4.2        7100.0      1  \n",
      "3            $$     4.2        7100.0      1  \n",
      "4            $$     4.2        7100.0      1  \n",
      "..          ...     ...           ...    ...  \n",
      "118          $$     4.2        2900.0     48  \n",
      "119          $$     4.2        2900.0     48  \n",
      "120          $$     4.2        2900.0     48  \n",
      "121          $$     3.5        2900.0     49  \n",
      "122          $$     3.5        2900.0     49  \n",
      "\n",
      "[123 rows x 6 columns]\n",
      " Waiting 3 seconds...\n"
     ]
    },
    {
     "ename": "KeyboardInterrupt",
     "evalue": "",
     "output_type": "error",
     "traceback": [
      "\u001b[1;31m---------------------------------------------------------------------------\u001b[0m",
      "\u001b[1;31mKeyboardInterrupt\u001b[0m                         Traceback (most recent call last)",
      "\u001b[1;32m<ipython-input-7-65d98bc1be02>\u001b[0m in \u001b[0;36m<module>\u001b[1;34m\u001b[0m\n\u001b[0;32m      4\u001b[0m         \u001b[0mwaiting_time\u001b[0m \u001b[1;33m=\u001b[0m \u001b[1;36m3\u001b[0m\u001b[1;33m\u001b[0m\u001b[1;33m\u001b[0m\u001b[0m\n\u001b[0;32m      5\u001b[0m         \u001b[0mprint\u001b[0m\u001b[1;33m(\u001b[0m\u001b[1;34mf' Waiting {waiting_time} seconds...'\u001b[0m\u001b[1;33m)\u001b[0m\u001b[1;33m\u001b[0m\u001b[1;33m\u001b[0m\u001b[0m\n\u001b[1;32m----> 6\u001b[1;33m         \u001b[0mtime\u001b[0m\u001b[1;33m.\u001b[0m\u001b[0msleep\u001b[0m\u001b[1;33m(\u001b[0m\u001b[0mwaiting_time\u001b[0m \u001b[1;33m*\u001b[0m \u001b[1;36m40\u001b[0m\u001b[1;33m)\u001b[0m \u001b[1;31m# 2 minute till next run\u001b[0m\u001b[1;33m\u001b[0m\u001b[1;33m\u001b[0m\u001b[0m\n\u001b[0m\u001b[0;32m      7\u001b[0m         \u001b[0mcurrent_time\u001b[0m \u001b[1;33m=\u001b[0m \u001b[0mdatetime\u001b[0m\u001b[1;33m.\u001b[0m\u001b[0mdatetime\u001b[0m\u001b[1;33m.\u001b[0m\u001b[0mnow\u001b[0m\u001b[1;33m(\u001b[0m\u001b[1;33m)\u001b[0m\u001b[1;33m\u001b[0m\u001b[1;33m\u001b[0m\u001b[0m\n\u001b[0;32m      8\u001b[0m         \u001b[0mprint\u001b[0m\u001b[1;33m(\u001b[0m\u001b[0mcurrent_time\u001b[0m\u001b[1;33m)\u001b[0m\u001b[1;33m\u001b[0m\u001b[1;33m\u001b[0m\u001b[0m\n",
      "\u001b[1;31mKeyboardInterrupt\u001b[0m: "
     ]
    }
   ],
   "source": [
    "if __name__ == '__main__':\n",
    "    while True:\n",
    "        webscrape_yelp_to_df()\n",
    "        waiting_time = 3\n",
    "        print(f' Waiting {waiting_time} seconds...')\n",
    "        time.sleep(waiting_time * 40) # 2 minute till next run\n",
    "        current_time = datetime.datetime.now()\n",
    "        print(current_time)"
   ]
  },
  {
   "cell_type": "code",
   "execution_count": null,
   "id": "7fe449f1",
   "metadata": {},
   "outputs": [],
   "source": []
  }
 ],
 "metadata": {
  "kernelspec": {
   "display_name": "Python 3",
   "language": "python",
   "name": "python3"
  },
  "language_info": {
   "codemirror_mode": {
    "name": "ipython",
    "version": 3
   },
   "file_extension": ".py",
   "mimetype": "text/x-python",
   "name": "python",
   "nbconvert_exporter": "python",
   "pygments_lexer": "ipython3",
   "version": "3.8.8"
  }
 },
 "nbformat": 4,
 "nbformat_minor": 5
}
